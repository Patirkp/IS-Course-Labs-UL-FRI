{
 "cells": [
  {
   "cell_type": "markdown",
   "id": "df82d6e1",
   "metadata": {},
   "source": [
    "# Attribute Evaluation (Feature selection)\n",
    "\n",
    "In machine learning, we can sometimes improve model performance by removing features that do not contain helpful information or by focusing only on the most important features. This can help to:\n",
    "\n",
    "* Reduce overfitting. A smaller number of features mean models have less chance to overfit on noise present in the training data.\n",
    "* Improve accuracy. Some models are not good at distinguishing between useful and useless features. By selecting only the most important features, we can sometimes improve performance of such models.\n",
    "    \n",
    "This task is often called feature selection and can be automated using different approaches."
   ]
  },
  {
   "cell_type": "code",
   "execution_count": 9,
   "id": "75d6d0da",
   "metadata": {},
   "outputs": [],
   "source": [
    "import pandas as pd\n",
    "import numpy as np\n",
    "from sklearn.model_selection import train_test_split\n",
    "from datasets import load_dataset\n",
    "from sklearn.feature_extraction.text import TfidfVectorizer\n",
    "from sklearn.metrics import accuracy_score"
   ]
  },
  {
   "cell_type": "markdown",
   "id": "a599f0e7",
   "metadata": {},
   "source": [
    "# Example 1"
   ]
  },
  {
   "cell_type": "code",
   "execution_count": 10,
   "id": "626dd432",
   "metadata": {},
   "outputs": [
    {
     "name": "stderr",
     "output_type": "stream",
     "text": [
      "Reusing dataset imdb (C:\\Users\\Tadej\\.cache\\huggingface\\datasets\\imdb\\plain_text\\1.0.0\\e3c66f1788a67a89c7058d97ff62b6c30531e05b549de56d3ab91891f0561f9a)\n",
      "Loading cached shuffled indices for dataset at C:\\Users\\Tadej\\.cache\\huggingface\\datasets\\imdb\\plain_text\\1.0.0\\e3c66f1788a67a89c7058d97ff62b6c30531e05b549de56d3ab91891f0561f9a\\cache-67e2972668bc5f73.arrow\n"
     ]
    },
    {
     "data": {
      "text/plain": [
       "(800, 15331)"
      ]
     },
     "execution_count": 10,
     "metadata": {},
     "output_type": "execute_result"
    }
   ],
   "source": [
    "imdb_dataset = load_dataset('imdb')\n",
    "data = pd.DataFrame(imdb_dataset['train'].shuffle(seed=42).select(range(1000)))\n",
    "data['label'] = data['label'].apply(lambda x: 'pos' if x else 'neg')\n",
    "X_train, X_test, y_train, y_test = train_test_split(data['text'], data['label'], test_size=0.2, random_state=42)\n",
    "\n",
    "vectorizer = TfidfVectorizer()  # Use TF-IDF vectorizer for text to numerical feature conversion\n",
    "X_train_vec = vectorizer.fit_transform(X_train).todense()\n",
    "X_test_vec = vectorizer.transform(X_test).todense()\n",
    "\n",
    "X_train_vec.shape"
   ]
  },
  {
   "cell_type": "markdown",
   "id": "2e14d87f",
   "metadata": {},
   "source": [
    "Our tf-idf vector contains a large amount of rows (features). Most features are not related to review scores and will not be useful when training a classification model. Can we determine which features are useful?"
   ]
  },
  {
   "cell_type": "markdown",
   "id": "1b5db0a0",
   "metadata": {},
   "source": [
    "## Univariate Feature Selection\n",
    "\n",
    "Sklearn contains functions that can evaluate whether certain features are useful for predicting a given class. Univariate feature selection methods do this using statistical tests.\n",
    "\n",
    "Mutual information measures the mutual dependence between two variables. In other words, it tells us whether knowing something about variable X will reduce the uncertainty about variable Y. If X and Y are independent, MI is equal to 0. Higher values indicate some relation between X and Y. \n",
    "\n",
    "f score uses analysis of variance to discover feature importances. For a given feature, it compares the distributions across all possible class values. The more the distributions differ between classes, the better the score."
   ]
  },
  {
   "cell_type": "code",
   "execution_count": 11,
   "id": "629a459b",
   "metadata": {},
   "outputs": [],
   "source": [
    "from sklearn.feature_selection import mutual_info_classif\n",
    "from sklearn.feature_selection import f_classif"
   ]
  },
  {
   "cell_type": "code",
   "execution_count": 12,
   "id": "87a7c4f8",
   "metadata": {
    "scrolled": false
   },
   "outputs": [
    {
     "data": {
      "text/plain": [
       "['it',\n",
       " 'is',\n",
       " 'difficult',\n",
       " 'to',\n",
       " 'find',\n",
       " 'any',\n",
       " 'positives',\n",
       " 'in',\n",
       " 'this',\n",
       " 'movie']"
      ]
     },
     "execution_count": 12,
     "metadata": {},
     "output_type": "execute_result"
    }
   ],
   "source": [
    "# A list of words in our tf-idf matrix\n",
    "list(vectorizer.vocabulary_)[:10]"
   ]
  },
  {
   "cell_type": "code",
   "execution_count": 13,
   "id": "6a24db44",
   "metadata": {},
   "outputs": [
    {
     "data": {
      "text/plain": [
       "array([3.08308322, 0.02613735, 1.02534898, ..., 1.02534898, 1.02534898,\n",
       "       0.97527847])"
      ]
     },
     "execution_count": 13,
     "metadata": {},
     "output_type": "execute_result"
    }
   ],
   "source": [
    "# Evaluate each word with f values\n",
    "feature_scores = f_classif(np.asarray(X_train_vec), y_train)[0]\n",
    "feature_scores"
   ]
  },
  {
   "cell_type": "code",
   "execution_count": 14,
   "id": "6bb689f3",
   "metadata": {},
   "outputs": [
    {
     "name": "stdout",
     "output_type": "stream",
     "text": [
      "Highest\n",
      "worst 64.93362405889471\n",
      "bad 41.640307139833816\n",
      "this 28.812475478405194\n",
      "worse 26.817349058752153\n",
      "loved 25.23965347388643\n",
      "poor 23.3689417214993\n",
      "waste 23.339783629170977\n",
      "crap 21.689863910500616\n",
      "no 20.629076813027872\n",
      "nothing 20.51696260303282\n",
      "family 20.26184337977805\n",
      "why 18.993743387035913\n",
      "and 18.983529847277353\n",
      "terrible 18.03846012935701\n",
      "boring 17.827667352763545\n",
      "just 17.563398390667402\n",
      "any 17.54300666774805\n",
      "would 16.838128768588284\n",
      "attempt 16.774572640359427\n",
      "great 16.530265291237658\n",
      "love 16.49856868821814\n",
      "badly 16.463979105673207\n",
      "excellent 16.44098671363097\n",
      "fantastic 15.607772688774912\n",
      "awful 14.893801399009167\n",
      "best 13.922145915556285\n",
      "except 13.704731678835122\n",
      "wonderful 13.419289281775692\n",
      "low 13.303379449960808\n",
      "lame 13.132877686659905\n",
      "Lowest\n",
      "causes 7.252333858558624e-08\n",
      "broader 2.764856972576682e-07\n",
      "entertaining 3.463939944464135e-07\n",
      "likes 4.7273287167748094e-07\n",
      "wanting 1.1430511403119043e-06\n",
      "larger 1.2409485118913e-06\n",
      "repression 1.5532486162148435e-06\n",
      "market 1.5794652810698148e-06\n",
      "monarch 2.000838828222864e-06\n",
      "predator 2.1410736993316237e-06\n",
      "china 2.4854812098477784e-06\n",
      "sitting 4.753658217669884e-06\n",
      "laughter 6.523977739034781e-06\n",
      "cosmic 6.8302945317110175e-06\n",
      "expect 8.04249714632652e-06\n",
      "place 8.446078588045976e-06\n",
      "frighten 1.4705144784041807e-05\n",
      "volunteer 1.5649946351517863e-05\n",
      "tiger 1.5861971156833302e-05\n",
      "broadcast 1.6661773194613012e-05\n",
      "tilly 1.8451090873178733e-05\n",
      "reported 1.9114999489177034e-05\n",
      "does 1.971534848833505e-05\n",
      "prejudice 2.0799694193877853e-05\n",
      "effective 2.372339110208922e-05\n",
      "cream 2.464585041022374e-05\n",
      "declares 2.464585041022374e-05\n",
      "annual 2.7562067480138845e-05\n",
      "aptly 3.177786653474108e-05\n",
      "authored 3.457022232642553e-05\n"
     ]
    }
   ],
   "source": [
    "word_scores = {k: v for k, v in zip(vectorizer.get_feature_names_out(), feature_scores)}\n",
    "sorted_words = sorted(word_scores, key = word_scores.get)\n",
    "\n",
    "# Print 30 words with highest mutual information\n",
    "print(\"Highest\")\n",
    "for i in range(1, 31):\n",
    "    print(sorted_words[-i], word_scores[sorted_words[-i]])\n",
    "    \n",
    "# And 30 lowest:\n",
    "print(\"Lowest\")\n",
    "for i in range(0, 30):\n",
    "    print(sorted_words[i], word_scores[sorted_words[i]])\n",
    "    "
   ]
  },
  {
   "cell_type": "code",
   "execution_count": 15,
   "id": "19e47b1d",
   "metadata": {},
   "outputs": [
    {
     "data": {
      "text/plain": [
       "(800, 7847)"
      ]
     },
     "execution_count": 15,
     "metadata": {},
     "output_type": "execute_result"
    }
   ],
   "source": [
    "bad_features_train = X_train_vec[:,feature_scores < 1 ]\n",
    "bad_features_test = X_test_vec[:,feature_scores < 1]\n",
    "bad_features_train.shape"
   ]
  },
  {
   "cell_type": "code",
   "execution_count": 16,
   "id": "5b3ffaca",
   "metadata": {},
   "outputs": [
    {
     "data": {
      "text/plain": [
       "(800, 7484)"
      ]
     },
     "execution_count": 16,
     "metadata": {},
     "output_type": "execute_result"
    }
   ],
   "source": [
    "good_features_train = X_train_vec[:,feature_scores > 1 ]\n",
    "good_features_test = X_test_vec[:,feature_scores > 1]\n",
    "good_features_train.shape"
   ]
  },
  {
   "cell_type": "code",
   "execution_count": 17,
   "id": "b1df1b78",
   "metadata": {},
   "outputs": [
    {
     "name": "stdout",
     "output_type": "stream",
     "text": [
      "KNN Accuracy on bad features: 0.465\n",
      "KNN on good features: 0.535\n"
     ]
    }
   ],
   "source": [
    "from sklearn.neighbors import KNeighborsClassifier\n",
    "\n",
    "# KNN model\n",
    "knn_model = KNeighborsClassifier()\n",
    "knn_model.fit(np.asarray(bad_features_train), y_train)\n",
    "knn_predictions = knn_model.predict(np.asarray(bad_features_test))\n",
    "knn_accuracy = accuracy_score(y_test, knn_predictions)\n",
    "print(\"KNN Accuracy on bad features:\", knn_accuracy)\n",
    "\n",
    "# KNN model\n",
    "knn_model = KNeighborsClassifier()\n",
    "knn_model.fit(np.asarray(good_features_train), y_train)\n",
    "knn_predictions = knn_model.predict(np.asarray(good_features_test))\n",
    "knn_accuracy = accuracy_score(y_test, knn_predictions)\n",
    "print(\"KNN on good features:\", knn_accuracy)\n"
   ]
  },
  {
   "cell_type": "markdown",
   "id": "01c343c8",
   "metadata": {},
   "source": [
    "Good features perform better than bad features, but are they better than all features?"
   ]
  },
  {
   "cell_type": "code",
   "execution_count": 18,
   "id": "d450d526",
   "metadata": {},
   "outputs": [
    {
     "name": "stdout",
     "output_type": "stream",
     "text": [
      "KNN Accuracy on all features: 0.575\n"
     ]
    }
   ],
   "source": [
    "# KNN model\n",
    "knn_model = KNeighborsClassifier()\n",
    "knn_model.fit(np.asarray(X_train_vec), y_train)\n",
    "knn_predictions = knn_model.predict(np.asarray(X_test_vec))\n",
    "knn_accuracy = accuracy_score(y_test, knn_predictions)\n",
    "print(\"KNN Accuracy on all features:\", knn_accuracy)"
   ]
  },
  {
   "cell_type": "markdown",
   "id": "1ffc532b",
   "metadata": {},
   "source": [
    "Lets evaluate different feature subsets"
   ]
  },
  {
   "cell_type": "code",
   "execution_count": 19,
   "id": "194769a5",
   "metadata": {},
   "outputs": [],
   "source": [
    "from sklearn.feature_selection import SelectKBest\n",
    "from sklearn.feature_selection import f_classif"
   ]
  },
  {
   "cell_type": "code",
   "execution_count": 20,
   "id": "ea493567",
   "metadata": {},
   "outputs": [
    {
     "name": "stdout",
     "output_type": "stream",
     "text": [
      "100 0.645\n",
      "1100 0.585\n",
      "2100 0.58\n",
      "3100 0.585\n",
      "4100 0.585\n",
      "5100 0.57\n",
      "6100 0.535\n",
      "7100 0.535\n",
      "8100 0.535\n",
      "9100 0.535\n",
      "10100 0.535\n",
      "11100 0.56\n",
      "12100 0.615\n",
      "13100 0.59\n",
      "14100 0.615\n",
      "15100 0.545\n"
     ]
    }
   ],
   "source": [
    "for n_feats in range(100, X_train_vec.shape[1], 1000):\n",
    "    feature_selector = SelectKBest(f_classif, k=n_feats)\n",
    "    X_train_n_best = feature_selector.fit_transform(np.asarray(X_train_vec), y_train)\n",
    "    X_test_n_best = feature_selector.transform(np.asarray(X_test_vec))\n",
    "    \n",
    "    knn_model = KNeighborsClassifier()\n",
    "    knn_model.fit(X_train_n_best, y_train)\n",
    "    knn_predictions = knn_model.predict(X_test_n_best)\n",
    "    knn_accuracy = accuracy_score(y_test, knn_predictions)\n",
    "    print(n_feats, knn_accuracy)"
   ]
  },
  {
   "cell_type": "markdown",
   "id": "272917ec",
   "metadata": {},
   "source": [
    "Certain subsets of features improve performance over all features! This depends on the data and type of model, but feature selection can sometimes be an important part of classification."
   ]
  },
  {
   "cell_type": "markdown",
   "id": "272fde8e",
   "metadata": {},
   "source": [
    "# Example 2 - Dependent Features\n",
    "\n",
    "The previous features assume the features are indepentend. In real-world scenarions, this is not always true and can make such methods innefective. For example, consider the following artificial example:"
   ]
  },
  {
   "cell_type": "code",
   "execution_count": 21,
   "id": "9d5f9ab4",
   "metadata": {},
   "outputs": [
    {
     "data": {
      "text/html": [
       "<div>\n",
       "<style scoped>\n",
       "    .dataframe tbody tr th:only-of-type {\n",
       "        vertical-align: middle;\n",
       "    }\n",
       "\n",
       "    .dataframe tbody tr th {\n",
       "        vertical-align: top;\n",
       "    }\n",
       "\n",
       "    .dataframe thead th {\n",
       "        text-align: right;\n",
       "    }\n",
       "</style>\n",
       "<table border=\"1\" class=\"dataframe\">\n",
       "  <thead>\n",
       "    <tr style=\"text-align: right;\">\n",
       "      <th></th>\n",
       "      <th>a1</th>\n",
       "      <th>a2</th>\n",
       "      <th>a3</th>\n",
       "      <th>a4</th>\n",
       "      <th>a5</th>\n",
       "      <th>a6</th>\n",
       "      <th>a7</th>\n",
       "      <th>a8</th>\n",
       "      <th>Class</th>\n",
       "    </tr>\n",
       "  </thead>\n",
       "  <tbody>\n",
       "    <tr>\n",
       "      <th>0</th>\n",
       "      <td>-74</td>\n",
       "      <td>98</td>\n",
       "      <td>25</td>\n",
       "      <td>30</td>\n",
       "      <td>-11</td>\n",
       "      <td>34</td>\n",
       "      <td>67</td>\n",
       "      <td>35</td>\n",
       "      <td>True</td>\n",
       "    </tr>\n",
       "    <tr>\n",
       "      <th>1</th>\n",
       "      <td>-42</td>\n",
       "      <td>-87</td>\n",
       "      <td>24</td>\n",
       "      <td>88</td>\n",
       "      <td>71</td>\n",
       "      <td>74</td>\n",
       "      <td>87</td>\n",
       "      <td>-74</td>\n",
       "      <td>False</td>\n",
       "    </tr>\n",
       "    <tr>\n",
       "      <th>2</th>\n",
       "      <td>-44</td>\n",
       "      <td>72</td>\n",
       "      <td>23</td>\n",
       "      <td>-67</td>\n",
       "      <td>20</td>\n",
       "      <td>33</td>\n",
       "      <td>75</td>\n",
       "      <td>-60</td>\n",
       "      <td>True</td>\n",
       "    </tr>\n",
       "    <tr>\n",
       "      <th>3</th>\n",
       "      <td>-75</td>\n",
       "      <td>-88</td>\n",
       "      <td>-59</td>\n",
       "      <td>29</td>\n",
       "      <td>-92</td>\n",
       "      <td>-27</td>\n",
       "      <td>-61</td>\n",
       "      <td>-43</td>\n",
       "      <td>False</td>\n",
       "    </tr>\n",
       "    <tr>\n",
       "      <th>4</th>\n",
       "      <td>-41</td>\n",
       "      <td>69</td>\n",
       "      <td>-9</td>\n",
       "      <td>7</td>\n",
       "      <td>-24</td>\n",
       "      <td>-10</td>\n",
       "      <td>-6</td>\n",
       "      <td>-7</td>\n",
       "      <td>True</td>\n",
       "    </tr>\n",
       "    <tr>\n",
       "      <th>...</th>\n",
       "      <td>...</td>\n",
       "      <td>...</td>\n",
       "      <td>...</td>\n",
       "      <td>...</td>\n",
       "      <td>...</td>\n",
       "      <td>...</td>\n",
       "      <td>...</td>\n",
       "      <td>...</td>\n",
       "      <td>...</td>\n",
       "    </tr>\n",
       "    <tr>\n",
       "      <th>995</th>\n",
       "      <td>88</td>\n",
       "      <td>-55</td>\n",
       "      <td>-47</td>\n",
       "      <td>-90</td>\n",
       "      <td>98</td>\n",
       "      <td>-35</td>\n",
       "      <td>34</td>\n",
       "      <td>-79</td>\n",
       "      <td>True</td>\n",
       "    </tr>\n",
       "    <tr>\n",
       "      <th>996</th>\n",
       "      <td>37</td>\n",
       "      <td>-77</td>\n",
       "      <td>52</td>\n",
       "      <td>-31</td>\n",
       "      <td>61</td>\n",
       "      <td>-37</td>\n",
       "      <td>24</td>\n",
       "      <td>-55</td>\n",
       "      <td>True</td>\n",
       "    </tr>\n",
       "    <tr>\n",
       "      <th>997</th>\n",
       "      <td>-92</td>\n",
       "      <td>-66</td>\n",
       "      <td>-65</td>\n",
       "      <td>8</td>\n",
       "      <td>-64</td>\n",
       "      <td>73</td>\n",
       "      <td>-15</td>\n",
       "      <td>-81</td>\n",
       "      <td>False</td>\n",
       "    </tr>\n",
       "    <tr>\n",
       "      <th>998</th>\n",
       "      <td>6</td>\n",
       "      <td>46</td>\n",
       "      <td>-16</td>\n",
       "      <td>50</td>\n",
       "      <td>-36</td>\n",
       "      <td>65</td>\n",
       "      <td>-53</td>\n",
       "      <td>96</td>\n",
       "      <td>False</td>\n",
       "    </tr>\n",
       "    <tr>\n",
       "      <th>999</th>\n",
       "      <td>-75</td>\n",
       "      <td>73</td>\n",
       "      <td>36</td>\n",
       "      <td>78</td>\n",
       "      <td>-19</td>\n",
       "      <td>-49</td>\n",
       "      <td>-42</td>\n",
       "      <td>34</td>\n",
       "      <td>True</td>\n",
       "    </tr>\n",
       "  </tbody>\n",
       "</table>\n",
       "<p>1000 rows × 9 columns</p>\n",
       "</div>"
      ],
      "text/plain": [
       "     a1  a2  a3  a4  a5  a6  a7  a8  Class\n",
       "0   -74  98  25  30 -11  34  67  35   True\n",
       "1   -42 -87  24  88  71  74  87 -74  False\n",
       "2   -44  72  23 -67  20  33  75 -60   True\n",
       "3   -75 -88 -59  29 -92 -27 -61 -43  False\n",
       "4   -41  69  -9   7 -24 -10  -6  -7   True\n",
       "..   ..  ..  ..  ..  ..  ..  ..  ..    ...\n",
       "995  88 -55 -47 -90  98 -35  34 -79   True\n",
       "996  37 -77  52 -31  61 -37  24 -55   True\n",
       "997 -92 -66 -65   8 -64  73 -15 -81  False\n",
       "998   6  46 -16  50 -36  65 -53  96  False\n",
       "999 -75  73  36  78 -19 -49 -42  34   True\n",
       "\n",
       "[1000 rows x 9 columns]"
      ]
     },
     "execution_count": 21,
     "metadata": {},
     "output_type": "execute_result"
    }
   ],
   "source": [
    "quadrant = pd.read_csv(\"quadrant.txt\")\n",
    "quadrant"
   ]
  },
  {
   "cell_type": "markdown",
   "id": "e14336bb",
   "metadata": {},
   "source": [
    "\"Quadrant\" is a dummy dataset where:\n",
    "\n",
    "* Every feature is, by itself, independent from the class variable. We cannot predict the class based on 1 feature alone\n",
    "* The only way to make correct predictions is by looking at both a1 and a2."
   ]
  },
  {
   "cell_type": "code",
   "execution_count": 22,
   "id": "a62e5bb1",
   "metadata": {},
   "outputs": [],
   "source": [
    "import matplotlib.pyplot as plt"
   ]
  },
  {
   "cell_type": "code",
   "execution_count": 23,
   "id": "bf413457",
   "metadata": {},
   "outputs": [
    {
     "data": {
      "text/plain": [
       "<matplotlib.collections.PathCollection at 0x2cffa147fd0>"
      ]
     },
     "execution_count": 23,
     "metadata": {},
     "output_type": "execute_result"
    },
    {
     "data": {
      "image/png": "[encoded data removed]",
      "text/plain": [
       "<Figure size 432x288 with 1 Axes>"
      ]
     },
     "metadata": {
      "needs_background": "light"
     },
     "output_type": "display_data"
    }
   ],
   "source": [
    "colors = ['red' if x else 'blue' for x in quadrant['Class']]\n",
    "plt.scatter(quadrant['a1'],[1 for _ in quadrant['a1']], color=colors)"
   ]
  },
  {
   "cell_type": "code",
   "execution_count": 24,
   "id": "a4df92c4",
   "metadata": {},
   "outputs": [
    {
     "data": {
      "text/plain": [
       "<matplotlib.collections.PathCollection at 0x2cffa0e6790>"
      ]
     },
     "execution_count": 24,
     "metadata": {},
     "output_type": "execute_result"
    },
    {
     "data": {
      "image/png": "[encoded data removed]",
      "text/plain": [
       "<Figure size 432x288 with 1 Axes>"
      ]
     },
     "metadata": {
      "needs_background": "light"
     },
     "output_type": "display_data"
    }
   ],
   "source": [
    "plt.scatter(quadrant['a2'],[1 for _ in quadrant['a1']], color=colors)"
   ]
  },
  {
   "cell_type": "code",
   "execution_count": 25,
   "id": "f66ba6e5",
   "metadata": {},
   "outputs": [
    {
     "data": {
      "text/plain": [
       "<matplotlib.collections.PathCollection at 0x2cffa2c3fd0>"
      ]
     },
     "execution_count": 25,
     "metadata": {},
     "output_type": "execute_result"
    },
    {
     "data": {
      "image/png": "[encoded data removed]",
      "text/plain": [
       "<Figure size 432x288 with 1 Axes>"
      ]
     },
     "metadata": {
      "needs_background": "light"
     },
     "output_type": "display_data"
    }
   ],
   "source": [
    "colors = ['red' if x else 'blue' for x in quadrant['Class']]\n",
    "plt.scatter(quadrant['a2'], quadrant ['a3'], color=colors)"
   ]
  },
  {
   "cell_type": "code",
   "execution_count": 26,
   "id": "923ba4d7",
   "metadata": {},
   "outputs": [
    {
     "data": {
      "text/plain": [
       "<matplotlib.collections.PathCollection at 0x2cffa3492e0>"
      ]
     },
     "execution_count": 26,
     "metadata": {},
     "output_type": "execute_result"
    },
    {
     "data": {
      "image/png": "[encoded data removed]",
      "text/plain": [
       "<Figure size 432x288 with 1 Axes>"
      ]
     },
     "metadata": {
      "needs_background": "light"
     },
     "output_type": "display_data"
    }
   ],
   "source": [
    "plt.scatter(quadrant['a4'], quadrant ['a5'], color=colors)"
   ]
  },
  {
   "cell_type": "code",
   "execution_count": 27,
   "id": "60a20f05",
   "metadata": {},
   "outputs": [
    {
     "data": {
      "text/plain": [
       "<matplotlib.collections.PathCollection at 0x2cffa3b6ac0>"
      ]
     },
     "execution_count": 27,
     "metadata": {},
     "output_type": "execute_result"
    },
    {
     "data": {
      "image/png": "[encoded data removed]",
      "text/plain": [
       "<Figure size 432x288 with 1 Axes>"
      ]
     },
     "metadata": {
      "needs_background": "light"
     },
     "output_type": "display_data"
    }
   ],
   "source": [
    "plt.scatter(quadrant['a1'], quadrant ['a2'], color=colors)"
   ]
  },
  {
   "cell_type": "markdown",
   "id": "5e9d42aa",
   "metadata": {},
   "source": [
    "Measures that assume features are independent will fail to properly evaluate features"
   ]
  },
  {
   "cell_type": "code",
   "execution_count": 28,
   "id": "e21a95fc",
   "metadata": {},
   "outputs": [
    {
     "data": {
      "text/plain": [
       "array([0.        , 0.        , 0.        , 0.        , 0.00876614,\n",
       "       0.00686018, 0.00554478, 0.        ])"
      ]
     },
     "execution_count": 28,
     "metadata": {},
     "output_type": "execute_result"
    }
   ],
   "source": [
    "mutual_info_classif(quadrant.drop('Class', axis=1), quadrant['Class'])"
   ]
  },
  {
   "cell_type": "code",
   "execution_count": 29,
   "id": "89feeb8b",
   "metadata": {},
   "outputs": [
    {
     "data": {
      "text/plain": [
       "array([0.08224689, 1.5022783 , 1.65611467, 4.75349276, 0.80372455,\n",
       "       0.00653336, 1.92820717, 0.11729072])"
      ]
     },
     "execution_count": 29,
     "metadata": {},
     "output_type": "execute_result"
    }
   ],
   "source": [
    "f_classif(quadrant.drop('Class', axis=1), quadrant['Class'])[0]"
   ]
  },
  {
   "cell_type": "markdown",
   "id": "0ff49954",
   "metadata": {},
   "source": [
    "Models using the selected measures cannot classify examples (unless the feature selection methods get lucky and guess the correct features)"
   ]
  },
  {
   "cell_type": "code",
   "execution_count": 30,
   "id": "b7341658",
   "metadata": {},
   "outputs": [
    {
     "data": {
      "text/plain": [
       "<matplotlib.collections.PathCollection at 0x2cffa449d60>"
      ]
     },
     "execution_count": 30,
     "metadata": {},
     "output_type": "execute_result"
    },
    {
     "data": {
      "image/png": "[encoded data removed]",
      "text/plain": [
       "<Figure size 432x288 with 1 Axes>"
      ]
     },
     "metadata": {
      "needs_background": "light"
     },
     "output_type": "display_data"
    }
   ],
   "source": [
    "from sklearn.tree import DecisionTreeClassifier\n",
    "\n",
    "train_x, test_x, train_y, test_y = train_test_split(quadrant.drop('Class', axis=1), quadrant['Class'])\n",
    "\n",
    "feature_selector = SelectKBest(mutual_info_classif, k=2)\n",
    "quadrant_2_feats_train = feature_selector.fit_transform(train_x, train_y)\n",
    "colors = ['red' if x else 'blue' for x in train_y]\n",
    "plt.scatter([x[0] for x in quadrant_2_feats_train], [x[1] for x in quadrant_2_feats_train], color=colors )"
   ]
  },
  {
   "cell_type": "code",
   "execution_count": 31,
   "id": "ecb49904",
   "metadata": {},
   "outputs": [
    {
     "data": {
      "text/plain": [
       "0.576"
      ]
     },
     "execution_count": 31,
     "metadata": {},
     "output_type": "execute_result"
    }
   ],
   "source": [
    "quadrant_2_feats_test = feature_selector.transform(test_x)\n",
    "dt_model = DecisionTreeClassifier()\n",
    "dt_model.fit(quadrant_2_feats_train, train_y)\n",
    "dt_predictions = dt_model.predict(quadrant_2_feats_test)\n",
    "dt_accuracy = accuracy_score(test_y, dt_predictions)\n",
    "dt_accuracy"
   ]
  },
  {
   "cell_type": "markdown",
   "id": "9c48ce87",
   "metadata": {},
   "source": [
    "Instead, we can use methods that take feature dependency into account"
   ]
  },
  {
   "cell_type": "code",
   "execution_count": 32,
   "id": "85bf81a9",
   "metadata": {},
   "outputs": [],
   "source": [
    "#!pip install sklearn_relief"
   ]
  },
  {
   "cell_type": "code",
   "execution_count": 33,
   "id": "5da8746d",
   "metadata": {},
   "outputs": [],
   "source": [
    "import sklearn_relief as relief"
   ]
  },
  {
   "cell_type": "code",
   "execution_count": 34,
   "id": "9701a8f0",
   "metadata": {},
   "outputs": [],
   "source": [
    "r = relief.Relief(n_features=2, n_jobs=1)"
   ]
  },
  {
   "cell_type": "code",
   "execution_count": 35,
   "id": "8f8bbda8",
   "metadata": {},
   "outputs": [],
   "source": [
    "r.fit(np.asarray(train_x), np.asarray(train_y))\n",
    "relief_2_feats_train = r.transform(np.asarray(train_x))\n",
    "relief_2_feats_test = r.transform(np.asarray(test_x))"
   ]
  },
  {
   "cell_type": "code",
   "execution_count": 36,
   "id": "efb06077",
   "metadata": {},
   "outputs": [
    {
     "name": "stdout",
     "output_type": "stream",
     "text": [
      "Relief feature weights\n",
      "[40.25 44.29 18.68 25.5  23.17 21.31 23.51 22.09]\n"
     ]
    }
   ],
   "source": [
    "print(\"Relief feature weights\")\n",
    "print(r.w_)"
   ]
  },
  {
   "cell_type": "markdown",
   "id": "02c2aaa3",
   "metadata": {},
   "source": [
    "The first two features are correctly identified as important! Relief takes into account feature dependencies and correctly identifies the first two as most useful."
   ]
  },
  {
   "cell_type": "code",
   "execution_count": 37,
   "id": "f24c16b7",
   "metadata": {},
   "outputs": [
    {
     "data": {
      "text/plain": [
       "0.992"
      ]
     },
     "execution_count": 37,
     "metadata": {},
     "output_type": "execute_result"
    }
   ],
   "source": [
    "dt_model = DecisionTreeClassifier()\n",
    "dt_model.fit(relief_2_feats_train, train_y)\n",
    "dt_predictions = dt_model.predict(relief_2_feats_test)\n",
    "dt_accuracy = accuracy_score(test_y, dt_predictions)\n",
    "dt_accuracy"
   ]
  },
  {
   "cell_type": "markdown",
   "id": "130f1bfd",
   "metadata": {},
   "source": [
    "# Example 3 - Model-based feature selection\n",
    "\n",
    "Some models already evaluate features during training. For example, decision trees and random forests can assign importances to features that are used to split the trees. After training, we can obtain these features and use them in other models or use them to explain how a model obtained its predictions."
   ]
  },
  {
   "cell_type": "code",
   "execution_count": 38,
   "id": "01350035",
   "metadata": {},
   "outputs": [],
   "source": [
    "from sklearn.ensemble import RandomForestClassifier"
   ]
  },
  {
   "cell_type": "code",
   "execution_count": 39,
   "id": "5d743b54",
   "metadata": {},
   "outputs": [
    {
     "data": {
      "text/plain": [
       "matrix([[0., 0., 0., ..., 0., 0., 0.],\n",
       "        [0., 0., 0., ..., 0., 0., 0.],\n",
       "        [0., 0., 0., ..., 0., 0., 0.],\n",
       "        ...,\n",
       "        [0., 0., 0., ..., 0., 0., 0.],\n",
       "        [0., 0., 0., ..., 0., 0., 0.],\n",
       "        [0., 0., 0., ..., 0., 0., 0.]])"
      ]
     },
     "execution_count": 39,
     "metadata": {},
     "output_type": "execute_result"
    }
   ],
   "source": [
    "X_train_vec"
   ]
  },
  {
   "cell_type": "code",
   "execution_count": 40,
   "id": "4596b212",
   "metadata": {},
   "outputs": [
    {
     "name": "stdout",
     "output_type": "stream",
     "text": [
      "worst 0.010121198140955776\n",
      "bad 0.0076445095203482695\n",
      "this 0.006713446266063814\n",
      "to 0.005539519214997096\n",
      "and 0.005333189102902598\n",
      "movie 0.00473906061143304\n",
      "nothing 0.00464859120572034\n",
      "just 0.003980341182614744\n",
      "been 0.003741308893176065\n",
      "but 0.0036875990815247155\n"
     ]
    }
   ],
   "source": [
    "logistic_model = RandomForestClassifier()\n",
    "logistic_model.fit(np.asarray(X_train_vec), y_train)\n",
    "\n",
    "for score, name in list(sorted(zip(logistic_model.feature_importances_, vectorizer.get_feature_names_out()), reverse=True))[:10]:\n",
    "    print(name, score)"
   ]
  },
  {
   "cell_type": "markdown",
   "id": "4eeb893e",
   "metadata": {},
   "source": [
    "# Example 4 - Recursive feature elimination\n",
    "\n",
    "Recursive feature elimination (RFE) tries to select a subset of best features by recursively removing unhelpful features. It trains a model multiple times, removing a certain amount least-helpful features (according to model-based feature importance) after each iteration."
   ]
  },
  {
   "cell_type": "code",
   "execution_count": 41,
   "id": "3efe40dc",
   "metadata": {},
   "outputs": [],
   "source": [
    " from sklearn.feature_selection import RFE"
   ]
  },
  {
   "cell_type": "code",
   "execution_count": 46,
   "id": "a57b5fda",
   "metadata": {},
   "outputs": [],
   "source": [
    "estimator = RandomForestClassifier()"
   ]
  },
  {
   "cell_type": "code",
   "execution_count": 47,
   "id": "3613905b",
   "metadata": {},
   "outputs": [
    {
     "name": "stdout",
     "output_type": "stream",
     "text": [
      "Fitting estimator with 15331 features.\n",
      "Fitting estimator with 14831 features.\n",
      "Fitting estimator with 14331 features.\n",
      "Fitting estimator with 13831 features.\n",
      "Fitting estimator with 13331 features.\n",
      "Fitting estimator with 12831 features.\n",
      "Fitting estimator with 12331 features.\n"
     ]
    }
   ],
   "source": [
    "selector = RFE(estimator, n_features_to_select = 12000, step=500, verbose=1)\n",
    "selector = selector.fit(np.asarray(X_train_vec), y_train)"
   ]
  },
  {
   "cell_type": "code",
   "execution_count": 48,
   "id": "95f9753f",
   "metadata": {},
   "outputs": [
    {
     "name": "stdout",
     "output_type": "stream",
     "text": [
      "Random forest score on all features: 0.73\n",
      "Random forest score on RFE features: 0.785\n"
     ]
    }
   ],
   "source": [
    "X_train_rfe = selector.transform(np.asarray(X_train_vec))\n",
    "X_test_rfe = selector.transform(np.asarray(X_test_vec))\n",
    "\n",
    "estimator = RandomForestClassifier()\n",
    "estimator.fit(np.asarray(X_train_vec), y_train)\n",
    "preds = estimator.predict(np.asarray(X_test_vec))\n",
    "score_vec = accuracy_score(y_test, preds)\n",
    "print(\"Random forest score on all features:\", score_vec)\n",
    "\n",
    "\n",
    "estimator = RandomForestClassifier()\n",
    "estimator.fit(X_train_rfe, y_train)\n",
    "preds = estimator.predict(X_test_rfe)\n",
    "score_rfe = accuracy_score(y_test, preds)\n",
    "print(\"Random forest score on RFE features:\", score_rfe)"
   ]
  }
 ],
 "metadata": {
  "accelerator": "GPU",
  "colab": {
   "provenance": []
  },
  "gpuClass": "standard",
  "kernelspec": {
   "display_name": "Python 3 (ipykernel)",
   "language": "python",
   "name": "python3"
  },
  "language_info": {
   "codemirror_mode": {
    "name": "ipython",
    "version": 3
   },
   "file_extension": ".py",
   "mimetype": "text/x-python",
   "name": "python",
   "nbconvert_exporter": "python",
   "pygments_lexer": "ipython3",
   "version": "3.8.5"
  },
  "widgets": {
   "application/vnd.jupyter.widget-state+json": {
    "014530872b8d4b06bfc3f1f5f34ddd78": {
     "model_module": "@jupyter-widgets/controls",
     "model_module_version": "1.5.0",
     "model_name": "FloatProgressModel",
     "state": {
      "_dom_classes": [],
      "_model_module": "@jupyter-widgets/controls",
      "_model_module_version": "1.5.0",
      "_model_name": "FloatProgressModel",
      "_view_count": null,
      "_view_module": "@jupyter-widgets/controls",
      "_view_module_version": "1.5.0",
      "_view_name": "ProgressView",
      "bar_style": "success",
      "description": "",
      "description_tooltip": null,
      "layout": "IPY_MODEL_130213b3ad0e486ab7965da655eaac8c",
      "max": 48,
      "min": 0,
      "orientation": "horizontal",
      "style": "IPY_MODEL_ffb78ef40d454c0fa0187eaf483db498",
      "value": 48
     }
    },
    "0265345edc414f559fa022d0caaf85ab": {
     "model_module": "@jupyter-widgets/base",
     "model_module_version": "1.2.0",
     "model_name": "LayoutModel",
     "state": {
      "_model_module": "@jupyter-widgets/base",
      "_model_module_version": "1.2.0",
      "_model_name": "LayoutModel",
      "_view_count": null,
      "_view_module": "@jupyter-widgets/base",
      "_view_module_version": "1.2.0",
      "_view_name": "LayoutView",
      "align_content": null,
      "align_items": null,
      "align_self": null,
      "border": null,
      "bottom": null,
      "display": null,
      "flex": null,
      "flex_flow": null,
      "grid_area": null,
      "grid_auto_columns": null,
      "grid_auto_flow": null,
      "grid_auto_rows": null,
      "grid_column": null,
      "grid_gap": null,
      "grid_row": null,
      "grid_template_areas": null,
      "grid_template_columns": null,
      "grid_template_rows": null,
      "height": null,
      "justify_content": null,
      "justify_items": null,
      "left": null,
      "margin": null,
      "max_height": null,
      "max_width": null,
      "min_height": null,
      "min_width": null,
      "object_fit": null,
      "object_position": null,
      "order": null,
      "overflow": null,
      "overflow_x": null,
      "overflow_y": null,
      "padding": null,
      "right": null,
      "top": null,
      "visibility": null,
      "width": null
     }
    },
    "02af855212d74fb7bc93fbd03befcf1d": {
     "model_module": "@jupyter-widgets/base",
     "model_module_version": "1.2.0",
     "model_name": "LayoutModel",
     "state": {
      "_model_module": "@jupyter-widgets/base",
      "_model_module_version": "1.2.0",
      "_model_name": "LayoutModel",
      "_view_count": null,
      "_view_module": "@jupyter-widgets/base",
      "_view_module_version": "1.2.0",
      "_view_name": "LayoutView",
      "align_content": null,
      "align_items": null,
      "align_self": null,
      "border": null,
      "bottom": null,
      "display": null,
      "flex": null,
      "flex_flow": null,
      "grid_area": null,
      "grid_auto_columns": null,
      "grid_auto_flow": null,
      "grid_auto_rows": null,
      "grid_column": null,
      "grid_gap": null,
      "grid_row": null,
      "grid_template_areas": null,
      "grid_template_columns": null,
      "grid_template_rows": null,
      "height": null,
      "justify_content": null,
      "justify_items": null,
      "left": null,
      "margin": null,
      "max_height": null,
      "max_width": null,
      "min_height": null,
      "min_width": null,
      "object_fit": null,
      "object_position": null,
      "order": null,
      "overflow": null,
      "overflow_x": null,
      "overflow_y": null,
      "padding": null,
      "right": null,
      "top": null,
      "visibility": null,
      "width": null
     }
    },
    "0580b4b2e3054d5586594f1fd98c3ee6": {
     "model_module": "@jupyter-widgets/base",
     "model_module_version": "1.2.0",
     "model_name": "LayoutModel",
     "state": {
      "_model_module": "@jupyter-widgets/base",
      "_model_module_version": "1.2.0",
      "_model_name": "LayoutModel",
      "_view_count": null,
      "_view_module": "@jupyter-widgets/base",
      "_view_module_version": "1.2.0",
      "_view_name": "LayoutView",
      "align_content": null,
      "align_items": null,
      "align_self": null,
      "border": null,
      "bottom": null,
      "display": null,
      "flex": null,
      "flex_flow": null,
      "grid_area": null,
      "grid_auto_columns": null,
      "grid_auto_flow": null,
      "grid_auto_rows": null,
      "grid_column": null,
      "grid_gap": null,
      "grid_row": null,
      "grid_template_areas": null,
      "grid_template_columns": null,
      "grid_template_rows": null,
      "height": null,
      "justify_content": null,
      "justify_items": null,
      "left": null,
      "margin": null,
      "max_height": null,
      "max_width": null,
      "min_height": null,
      "min_width": null,
      "object_fit": null,
      "object_position": null,
      "order": null,
      "overflow": null,
      "overflow_x": null,
      "overflow_y": null,
      "padding": null,
      "right": null,
      "top": null,
      "visibility": null,
      "width": null
     }
    },
    "064c99a9f1d344018f77e9d9d6e03c8b": {
     "model_module": "@jupyter-widgets/controls",
     "model_module_version": "1.5.0",
     "model_name": "DescriptionStyleModel",
     "state": {
      "_model_module": "@jupyter-widgets/controls",
      "_model_module_version": "1.5.0",
      "_model_name": "DescriptionStyleModel",
      "_view_count": null,
      "_view_module": "@jupyter-widgets/base",
      "_view_module_version": "1.2.0",
      "_view_name": "StyleView",
      "description_width": ""
     }
    },
    "071f1628fa364887b1ef5fd11dc1d69b": {
     "model_module": "@jupyter-widgets/controls",
     "model_module_version": "1.5.0",
     "model_name": "DescriptionStyleModel",
     "state": {
      "_model_module": "@jupyter-widgets/controls",
      "_model_module_version": "1.5.0",
      "_model_name": "DescriptionStyleModel",
      "_view_count": null,
      "_view_module": "@jupyter-widgets/base",
      "_view_module_version": "1.2.0",
      "_view_name": "StyleView",
      "description_width": ""
     }
    },
    "115a2a24af4247129a80d7ae1c005efa": {
     "model_module": "@jupyter-widgets/controls",
     "model_module_version": "1.5.0",
     "model_name": "HTMLModel",
     "state": {
      "_dom_classes": [],
      "_model_module": "@jupyter-widgets/controls",
      "_model_module_version": "1.5.0",
      "_model_name": "HTMLModel",
      "_view_count": null,
      "_view_module": "@jupyter-widgets/controls",
      "_view_module_version": "1.5.0",
      "_view_name": "HTMLView",
      "description": "",
      "description_tooltip": null,
      "layout": "IPY_MODEL_e78718aa539e4c598945c1e8389c9a1a",
      "placeholder": "​",
      "style": "IPY_MODEL_22a0302127cc464a8b393b467cd2be7b",
      "value": "Downloading: 100%"
     }
    },
    "130213b3ad0e486ab7965da655eaac8c": {
     "model_module": "@jupyter-widgets/base",
     "model_module_version": "1.2.0",
     "model_name": "LayoutModel",
     "state": {
      "_model_module": "@jupyter-widgets/base",
      "_model_module_version": "1.2.0",
      "_model_name": "LayoutModel",
      "_view_count": null,
      "_view_module": "@jupyter-widgets/base",
      "_view_module_version": "1.2.0",
      "_view_name": "LayoutView",
      "align_content": null,
      "align_items": null,
      "align_self": null,
      "border": null,
      "bottom": null,
      "display": null,
      "flex": null,
      "flex_flow": null,
      "grid_area": null,
      "grid_auto_columns": null,
      "grid_auto_flow": null,
      "grid_auto_rows": null,
      "grid_column": null,
      "grid_gap": null,
      "grid_row": null,
      "grid_template_areas": null,
      "grid_template_columns": null,
      "grid_template_rows": null,
      "height": null,
      "justify_content": null,
      "justify_items": null,
      "left": null,
      "margin": null,
      "max_height": null,
      "max_width": null,
      "min_height": null,
      "min_width": null,
      "object_fit": null,
      "object_position": null,
      "order": null,
      "overflow": null,
      "overflow_x": null,
      "overflow_y": null,
      "padding": null,
      "right": null,
      "top": null,
      "visibility": null,
      "width": null
     }
    },
    "1d47b59bb74344dea29aaf51aa97ebe0": {
     "model_module": "@jupyter-widgets/controls",
     "model_module_version": "1.5.0",
     "model_name": "HBoxModel",
     "state": {
      "_dom_classes": [],
      "_model_module": "@jupyter-widgets/controls",
      "_model_module_version": "1.5.0",
      "_model_name": "HBoxModel",
      "_view_count": null,
      "_view_module": "@jupyter-widgets/controls",
      "_view_module_version": "1.5.0",
      "_view_name": "HBoxView",
      "box_style": "",
      "children": [
       "IPY_MODEL_115a2a24af4247129a80d7ae1c005efa",
       "IPY_MODEL_60a7b5e642e048e2a95988b5d7ac76a8",
       "IPY_MODEL_5c4508edd848490e87315f699e0e1a36"
      ],
      "layout": "IPY_MODEL_27ea2498515d4855bc1926af0f032c5b"
     }
    },
    "22a0302127cc464a8b393b467cd2be7b": {
     "model_module": "@jupyter-widgets/controls",
     "model_module_version": "1.5.0",
     "model_name": "DescriptionStyleModel",
     "state": {
      "_model_module": "@jupyter-widgets/controls",
      "_model_module_version": "1.5.0",
      "_model_name": "DescriptionStyleModel",
      "_view_count": null,
      "_view_module": "@jupyter-widgets/base",
      "_view_module_version": "1.2.0",
      "_view_name": "StyleView",
      "description_width": ""
     }
    },
    "27d4d92c42004240b4cb108534927e45": {
     "model_module": "@jupyter-widgets/controls",
     "model_module_version": "1.5.0",
     "model_name": "HBoxModel",
     "state": {
      "_dom_classes": [],
      "_model_module": "@jupyter-widgets/controls",
      "_model_module_version": "1.5.0",
      "_model_name": "HBoxModel",
      "_view_count": null,
      "_view_module": "@jupyter-widgets/controls",
      "_view_module_version": "1.5.0",
      "_view_name": "HBoxView",
      "box_style": "",
      "children": [
       "IPY_MODEL_aeba14c611064c1a86acd20a04f0a947",
       "IPY_MODEL_c3a9d216e43e49c98b086485eaff152a",
       "IPY_MODEL_3d4c36986e1e4180885703f443dbda40"
      ],
      "layout": "IPY_MODEL_97de99c0e5524e138a41cbec8af5f01f"
     }
    },
    "27ea2498515d4855bc1926af0f032c5b": {
     "model_module": "@jupyter-widgets/base",
     "model_module_version": "1.2.0",
     "model_name": "LayoutModel",
     "state": {
      "_model_module": "@jupyter-widgets/base",
      "_model_module_version": "1.2.0",
      "_model_name": "LayoutModel",
      "_view_count": null,
      "_view_module": "@jupyter-widgets/base",
      "_view_module_version": "1.2.0",
      "_view_name": "LayoutView",
      "align_content": null,
      "align_items": null,
      "align_self": null,
      "border": null,
      "bottom": null,
      "display": null,
      "flex": null,
      "flex_flow": null,
      "grid_area": null,
      "grid_auto_columns": null,
      "grid_auto_flow": null,
      "grid_auto_rows": null,
      "grid_column": null,
      "grid_gap": null,
      "grid_row": null,
      "grid_template_areas": null,
      "grid_template_columns": null,
      "grid_template_rows": null,
      "height": null,
      "justify_content": null,
      "justify_items": null,
      "left": null,
      "margin": null,
      "max_height": null,
      "max_width": null,
      "min_height": null,
      "min_width": null,
      "object_fit": null,
      "object_position": null,
      "order": null,
      "overflow": null,
      "overflow_x": null,
      "overflow_y": null,
      "padding": null,
      "right": null,
      "top": null,
      "visibility": null,
      "width": null
     }
    },
    "28bfba60611b4422b4b66838353ff6ca": {
     "model_module": "@jupyter-widgets/base",
     "model_module_version": "1.2.0",
     "model_name": "LayoutModel",
     "state": {
      "_model_module": "@jupyter-widgets/base",
      "_model_module_version": "1.2.0",
      "_model_name": "LayoutModel",
      "_view_count": null,
      "_view_module": "@jupyter-widgets/base",
      "_view_module_version": "1.2.0",
      "_view_name": "LayoutView",
      "align_content": null,
      "align_items": null,
      "align_self": null,
      "border": null,
      "bottom": null,
      "display": null,
      "flex": null,
      "flex_flow": null,
      "grid_area": null,
      "grid_auto_columns": null,
      "grid_auto_flow": null,
      "grid_auto_rows": null,
      "grid_column": null,
      "grid_gap": null,
      "grid_row": null,
      "grid_template_areas": null,
      "grid_template_columns": null,
      "grid_template_rows": null,
      "height": null,
      "justify_content": null,
      "justify_items": null,
      "left": null,
      "margin": null,
      "max_height": null,
      "max_width": null,
      "min_height": null,
      "min_width": null,
      "object_fit": null,
      "object_position": null,
      "order": null,
      "overflow": null,
      "overflow_x": null,
      "overflow_y": null,
      "padding": null,
      "right": null,
      "top": null,
      "visibility": null,
      "width": null
     }
    },
    "29d0c02d62114435b5167dace0bd32ba": {
     "model_module": "@jupyter-widgets/controls",
     "model_module_version": "1.5.0",
     "model_name": "DescriptionStyleModel",
     "state": {
      "_model_module": "@jupyter-widgets/controls",
      "_model_module_version": "1.5.0",
      "_model_name": "DescriptionStyleModel",
      "_view_count": null,
      "_view_module": "@jupyter-widgets/base",
      "_view_module_version": "1.2.0",
      "_view_name": "StyleView",
      "description_width": ""
     }
    },
    "2df44e8bfc3c4e29b8bdd2fece5d460e": {
     "model_module": "@jupyter-widgets/base",
     "model_module_version": "1.2.0",
     "model_name": "LayoutModel",
     "state": {
      "_model_module": "@jupyter-widgets/base",
      "_model_module_version": "1.2.0",
      "_model_name": "LayoutModel",
      "_view_count": null,
      "_view_module": "@jupyter-widgets/base",
      "_view_module_version": "1.2.0",
      "_view_name": "LayoutView",
      "align_content": null,
      "align_items": null,
      "align_self": null,
      "border": null,
      "bottom": null,
      "display": null,
      "flex": null,
      "flex_flow": null,
      "grid_area": null,
      "grid_auto_columns": null,
      "grid_auto_flow": null,
      "grid_auto_rows": null,
      "grid_column": null,
      "grid_gap": null,
      "grid_row": null,
      "grid_template_areas": null,
      "grid_template_columns": null,
      "grid_template_rows": null,
      "height": null,
      "justify_content": null,
      "justify_items": null,
      "left": null,
      "margin": null,
      "max_height": null,
      "max_width": null,
      "min_height": null,
      "min_width": null,
      "object_fit": null,
      "object_position": null,
      "order": null,
      "overflow": null,
      "overflow_x": null,
      "overflow_y": null,
      "padding": null,
      "right": null,
      "top": null,
      "visibility": null,
      "width": null
     }
    },
    "3229c7fbc5da4741a89c4a0b8cd85a5e": {
     "model_module": "@jupyter-widgets/base",
     "model_module_version": "1.2.0",
     "model_name": "LayoutModel",
     "state": {
      "_model_module": "@jupyter-widgets/base",
      "_model_module_version": "1.2.0",
      "_model_name": "LayoutModel",
      "_view_count": null,
      "_view_module": "@jupyter-widgets/base",
      "_view_module_version": "1.2.0",
      "_view_name": "LayoutView",
      "align_content": null,
      "align_items": null,
      "align_self": null,
      "border": null,
      "bottom": null,
      "display": null,
      "flex": null,
      "flex_flow": null,
      "grid_area": null,
      "grid_auto_columns": null,
      "grid_auto_flow": null,
      "grid_auto_rows": null,
      "grid_column": null,
      "grid_gap": null,
      "grid_row": null,
      "grid_template_areas": null,
      "grid_template_columns": null,
      "grid_template_rows": null,
      "height": null,
      "justify_content": null,
      "justify_items": null,
      "left": null,
      "margin": null,
      "max_height": null,
      "max_width": null,
      "min_height": null,
      "min_width": null,
      "object_fit": null,
      "object_position": null,
      "order": null,
      "overflow": null,
      "overflow_x": null,
      "overflow_y": null,
      "padding": null,
      "right": null,
      "top": null,
      "visibility": null,
      "width": null
     }
    },
    "359e09a2a9754cd6a604513fb53db269": {
     "model_module": "@jupyter-widgets/base",
     "model_module_version": "1.2.0",
     "model_name": "LayoutModel",
     "state": {
      "_model_module": "@jupyter-widgets/base",
      "_model_module_version": "1.2.0",
      "_model_name": "LayoutModel",
      "_view_count": null,
      "_view_module": "@jupyter-widgets/base",
      "_view_module_version": "1.2.0",
      "_view_name": "LayoutView",
      "align_content": null,
      "align_items": null,
      "align_self": null,
      "border": null,
      "bottom": null,
      "display": null,
      "flex": null,
      "flex_flow": null,
      "grid_area": null,
      "grid_auto_columns": null,
      "grid_auto_flow": null,
      "grid_auto_rows": null,
      "grid_column": null,
      "grid_gap": null,
      "grid_row": null,
      "grid_template_areas": null,
      "grid_template_columns": null,
      "grid_template_rows": null,
      "height": null,
      "justify_content": null,
      "justify_items": null,
      "left": null,
      "margin": null,
      "max_height": null,
      "max_width": null,
      "min_height": null,
      "min_width": null,
      "object_fit": null,
      "object_position": null,
      "order": null,
      "overflow": null,
      "overflow_x": null,
      "overflow_y": null,
      "padding": null,
      "right": null,
      "top": null,
      "visibility": "hidden",
      "width": null
     }
    },
    "3bd80295738e40039bbdeadccf10cd28": {
     "model_module": "@jupyter-widgets/controls",
     "model_module_version": "1.5.0",
     "model_name": "HTMLModel",
     "state": {
      "_dom_classes": [],
      "_model_module": "@jupyter-widgets/controls",
      "_model_module_version": "1.5.0",
      "_model_name": "HTMLModel",
      "_view_count": null,
      "_view_module": "@jupyter-widgets/controls",
      "_view_module_version": "1.5.0",
      "_view_name": "HTMLView",
      "description": "",
      "description_tooltip": null,
      "layout": "IPY_MODEL_e78175c11186439aae7036107db6c265",
      "placeholder": "​",
      "style": "IPY_MODEL_cdf750f43ffa427ba47d9d9ca6187df5",
      "value": "Downloading: 100%"
     }
    },
    "3d4c36986e1e4180885703f443dbda40": {
     "model_module": "@jupyter-widgets/controls",
     "model_module_version": "1.5.0",
     "model_name": "HTMLModel",
     "state": {
      "_dom_classes": [],
      "_model_module": "@jupyter-widgets/controls",
      "_model_module_version": "1.5.0",
      "_model_name": "HTMLModel",
      "_view_count": null,
      "_view_module": "@jupyter-widgets/controls",
      "_view_module_version": "1.5.0",
      "_view_name": "HTMLView",
      "description": "",
      "description_tooltip": null,
      "layout": "IPY_MODEL_cff381d3144e4fd79d8bc06988e6258a",
      "placeholder": "​",
      "style": "IPY_MODEL_071f1628fa364887b1ef5fd11dc1d69b",
      "value": " 629/629 [00:00&lt;00:00, 24.5kB/s]"
     }
    },
    "4bd3e51825fc48919fa3dd41362f1883": {
     "model_module": "@jupyter-widgets/base",
     "model_module_version": "1.2.0",
     "model_name": "LayoutModel",
     "state": {
      "_model_module": "@jupyter-widgets/base",
      "_model_module_version": "1.2.0",
      "_model_name": "LayoutModel",
      "_view_count": null,
      "_view_module": "@jupyter-widgets/base",
      "_view_module_version": "1.2.0",
      "_view_name": "LayoutView",
      "align_content": null,
      "align_items": null,
      "align_self": null,
      "border": null,
      "bottom": null,
      "display": null,
      "flex": null,
      "flex_flow": null,
      "grid_area": null,
      "grid_auto_columns": null,
      "grid_auto_flow": null,
      "grid_auto_rows": null,
      "grid_column": null,
      "grid_gap": null,
      "grid_row": null,
      "grid_template_areas": null,
      "grid_template_columns": null,
      "grid_template_rows": null,
      "height": null,
      "justify_content": null,
      "justify_items": null,
      "left": null,
      "margin": null,
      "max_height": null,
      "max_width": null,
      "min_height": null,
      "min_width": null,
      "object_fit": null,
      "object_position": null,
      "order": null,
      "overflow": null,
      "overflow_x": null,
      "overflow_y": null,
      "padding": null,
      "right": null,
      "top": null,
      "visibility": null,
      "width": null
     }
    },
    "5c4508edd848490e87315f699e0e1a36": {
     "model_module": "@jupyter-widgets/controls",
     "model_module_version": "1.5.0",
     "model_name": "HTMLModel",
     "state": {
      "_dom_classes": [],
      "_model_module": "@jupyter-widgets/controls",
      "_model_module_version": "1.5.0",
      "_model_name": "HTMLModel",
      "_view_count": null,
      "_view_module": "@jupyter-widgets/controls",
      "_view_module_version": "1.5.0",
      "_view_name": "HTMLView",
      "description": "",
      "description_tooltip": null,
      "layout": "IPY_MODEL_c741d792d7b1409f8b2a22133bd70912",
      "placeholder": "​",
      "style": "IPY_MODEL_c7ac92d12824402b8f572223bea4faf1",
      "value": " 232k/232k [00:00&lt;00:00, 817kB/s]"
     }
    },
    "60a7b5e642e048e2a95988b5d7ac76a8": {
     "model_module": "@jupyter-widgets/controls",
     "model_module_version": "1.5.0",
     "model_name": "FloatProgressModel",
     "state": {
      "_dom_classes": [],
      "_model_module": "@jupyter-widgets/controls",
      "_model_module_version": "1.5.0",
      "_model_name": "FloatProgressModel",
      "_view_count": null,
      "_view_module": "@jupyter-widgets/controls",
      "_view_module_version": "1.5.0",
      "_view_name": "ProgressView",
      "bar_style": "success",
      "description": "",
      "description_tooltip": null,
      "layout": "IPY_MODEL_0580b4b2e3054d5586594f1fd98c3ee6",
      "max": 231508,
      "min": 0,
      "orientation": "horizontal",
      "style": "IPY_MODEL_b4103e912e9148e9b175667b089e1565",
      "value": 231508
     }
    },
    "644451b89c1e4223a21f4f12657e1d64": {
     "model_module": "@jupyter-widgets/base",
     "model_module_version": "1.2.0",
     "model_name": "LayoutModel",
     "state": {
      "_model_module": "@jupyter-widgets/base",
      "_model_module_version": "1.2.0",
      "_model_name": "LayoutModel",
      "_view_count": null,
      "_view_module": "@jupyter-widgets/base",
      "_view_module_version": "1.2.0",
      "_view_name": "LayoutView",
      "align_content": null,
      "align_items": null,
      "align_self": null,
      "border": null,
      "bottom": null,
      "display": null,
      "flex": null,
      "flex_flow": null,
      "grid_area": null,
      "grid_auto_columns": null,
      "grid_auto_flow": null,
      "grid_auto_rows": null,
      "grid_column": null,
      "grid_gap": null,
      "grid_row": null,
      "grid_template_areas": null,
      "grid_template_columns": null,
      "grid_template_rows": null,
      "height": null,
      "justify_content": null,
      "justify_items": null,
      "left": null,
      "margin": null,
      "max_height": null,
      "max_width": null,
      "min_height": null,
      "min_width": null,
      "object_fit": null,
      "object_position": null,
      "order": null,
      "overflow": null,
      "overflow_x": null,
      "overflow_y": null,
      "padding": null,
      "right": null,
      "top": null,
      "visibility": null,
      "width": null
     }
    },
    "716a518f1a56459a94abbcbb232b98e1": {
     "model_module": "@jupyter-widgets/controls",
     "model_module_version": "1.5.0",
     "model_name": "HBoxModel",
     "state": {
      "_dom_classes": [],
      "_model_module": "@jupyter-widgets/controls",
      "_model_module_version": "1.5.0",
      "_model_name": "HBoxModel",
      "_view_count": null,
      "_view_module": "@jupyter-widgets/controls",
      "_view_module_version": "1.5.0",
      "_view_name": "HBoxView",
      "box_style": "",
      "children": [
       "IPY_MODEL_f4ac044c6e324edc92569afd897455d8",
       "IPY_MODEL_f05875f00cdc47ef84ba39d517349e6d",
       "IPY_MODEL_b5d4ea3ac1aa4b149bf7765b6bfcb48b"
      ],
      "layout": "IPY_MODEL_359e09a2a9754cd6a604513fb53db269"
     }
    },
    "7d8e22847a7e445c9591947a4f7c8bcf": {
     "model_module": "@jupyter-widgets/controls",
     "model_module_version": "1.5.0",
     "model_name": "HTMLModel",
     "state": {
      "_dom_classes": [],
      "_model_module": "@jupyter-widgets/controls",
      "_model_module_version": "1.5.0",
      "_model_name": "HTMLModel",
      "_view_count": null,
      "_view_module": "@jupyter-widgets/controls",
      "_view_module_version": "1.5.0",
      "_view_name": "HTMLView",
      "description": "",
      "description_tooltip": null,
      "layout": "IPY_MODEL_a725f8cb6a824cd28d05b44290d039a0",
      "placeholder": "​",
      "style": "IPY_MODEL_ecf78f7df7c148078f35bf0dda56e861",
      "value": " 268M/268M [00:05&lt;00:00, 49.4MB/s]"
     }
    },
    "82549d9aa7e14618b22d521c0dd331ad": {
     "model_module": "@jupyter-widgets/controls",
     "model_module_version": "1.5.0",
     "model_name": "DescriptionStyleModel",
     "state": {
      "_model_module": "@jupyter-widgets/controls",
      "_model_module_version": "1.5.0",
      "_model_name": "DescriptionStyleModel",
      "_view_count": null,
      "_view_module": "@jupyter-widgets/base",
      "_view_module_version": "1.2.0",
      "_view_name": "StyleView",
      "description_width": ""
     }
    },
    "97de99c0e5524e138a41cbec8af5f01f": {
     "model_module": "@jupyter-widgets/base",
     "model_module_version": "1.2.0",
     "model_name": "LayoutModel",
     "state": {
      "_model_module": "@jupyter-widgets/base",
      "_model_module_version": "1.2.0",
      "_model_name": "LayoutModel",
      "_view_count": null,
      "_view_module": "@jupyter-widgets/base",
      "_view_module_version": "1.2.0",
      "_view_name": "LayoutView",
      "align_content": null,
      "align_items": null,
      "align_self": null,
      "border": null,
      "bottom": null,
      "display": null,
      "flex": null,
      "flex_flow": null,
      "grid_area": null,
      "grid_auto_columns": null,
      "grid_auto_flow": null,
      "grid_auto_rows": null,
      "grid_column": null,
      "grid_gap": null,
      "grid_row": null,
      "grid_template_areas": null,
      "grid_template_columns": null,
      "grid_template_rows": null,
      "height": null,
      "justify_content": null,
      "justify_items": null,
      "left": null,
      "margin": null,
      "max_height": null,
      "max_width": null,
      "min_height": null,
      "min_width": null,
      "object_fit": null,
      "object_position": null,
      "order": null,
      "overflow": null,
      "overflow_x": null,
      "overflow_y": null,
      "padding": null,
      "right": null,
      "top": null,
      "visibility": null,
      "width": null
     }
    },
    "9fca6aa0db42404eb45ecea9ff380666": {
     "model_module": "@jupyter-widgets/controls",
     "model_module_version": "1.5.0",
     "model_name": "HBoxModel",
     "state": {
      "_dom_classes": [],
      "_model_module": "@jupyter-widgets/controls",
      "_model_module_version": "1.5.0",
      "_model_name": "HBoxModel",
      "_view_count": null,
      "_view_module": "@jupyter-widgets/controls",
      "_view_module_version": "1.5.0",
      "_view_name": "HBoxView",
      "box_style": "",
      "children": [
       "IPY_MODEL_aed3d5c79c77404e94c4c7fad2706047",
       "IPY_MODEL_b4985eaa8f384608a029c6f693dc89e6",
       "IPY_MODEL_7d8e22847a7e445c9591947a4f7c8bcf"
      ],
      "layout": "IPY_MODEL_02af855212d74fb7bc93fbd03befcf1d"
     }
    },
    "a725f8cb6a824cd28d05b44290d039a0": {
     "model_module": "@jupyter-widgets/base",
     "model_module_version": "1.2.0",
     "model_name": "LayoutModel",
     "state": {
      "_model_module": "@jupyter-widgets/base",
      "_model_module_version": "1.2.0",
      "_model_name": "LayoutModel",
      "_view_count": null,
      "_view_module": "@jupyter-widgets/base",
      "_view_module_version": "1.2.0",
      "_view_name": "LayoutView",
      "align_content": null,
      "align_items": null,
      "align_self": null,
      "border": null,
      "bottom": null,
      "display": null,
      "flex": null,
      "flex_flow": null,
      "grid_area": null,
      "grid_auto_columns": null,
      "grid_auto_flow": null,
      "grid_auto_rows": null,
      "grid_column": null,
      "grid_gap": null,
      "grid_row": null,
      "grid_template_areas": null,
      "grid_template_columns": null,
      "grid_template_rows": null,
      "height": null,
      "justify_content": null,
      "justify_items": null,
      "left": null,
      "margin": null,
      "max_height": null,
      "max_width": null,
      "min_height": null,
      "min_width": null,
      "object_fit": null,
      "object_position": null,
      "order": null,
      "overflow": null,
      "overflow_x": null,
      "overflow_y": null,
      "padding": null,
      "right": null,
      "top": null,
      "visibility": null,
      "width": null
     }
    },
    "a84ba511c06346bc8fa177540fe48e94": {
     "model_module": "@jupyter-widgets/controls",
     "model_module_version": "1.5.0",
     "model_name": "HBoxModel",
     "state": {
      "_dom_classes": [],
      "_model_module": "@jupyter-widgets/controls",
      "_model_module_version": "1.5.0",
      "_model_name": "HBoxModel",
      "_view_count": null,
      "_view_module": "@jupyter-widgets/controls",
      "_view_module_version": "1.5.0",
      "_view_name": "HBoxView",
      "box_style": "",
      "children": [
       "IPY_MODEL_3bd80295738e40039bbdeadccf10cd28",
       "IPY_MODEL_014530872b8d4b06bfc3f1f5f34ddd78",
       "IPY_MODEL_e7651ed80798400997d0f4ffd21eded1"
      ],
      "layout": "IPY_MODEL_2df44e8bfc3c4e29b8bdd2fece5d460e"
     }
    },
    "aeba14c611064c1a86acd20a04f0a947": {
     "model_module": "@jupyter-widgets/controls",
     "model_module_version": "1.5.0",
     "model_name": "HTMLModel",
     "state": {
      "_dom_classes": [],
      "_model_module": "@jupyter-widgets/controls",
      "_model_module_version": "1.5.0",
      "_model_name": "HTMLModel",
      "_view_count": null,
      "_view_module": "@jupyter-widgets/controls",
      "_view_module_version": "1.5.0",
      "_view_name": "HTMLView",
      "description": "",
      "description_tooltip": null,
      "layout": "IPY_MODEL_e429eaeb953d4a45b006b1e5e1822f61",
      "placeholder": "​",
      "style": "IPY_MODEL_e6dfaff0910c4f7fbae079746d77d10e",
      "value": "Downloading: 100%"
     }
    },
    "aed3d5c79c77404e94c4c7fad2706047": {
     "model_module": "@jupyter-widgets/controls",
     "model_module_version": "1.5.0",
     "model_name": "HTMLModel",
     "state": {
      "_dom_classes": [],
      "_model_module": "@jupyter-widgets/controls",
      "_model_module_version": "1.5.0",
      "_model_name": "HTMLModel",
      "_view_count": null,
      "_view_module": "@jupyter-widgets/controls",
      "_view_module_version": "1.5.0",
      "_view_name": "HTMLView",
      "description": "",
      "description_tooltip": null,
      "layout": "IPY_MODEL_ba66f239d0ae4827963e8449a647aace",
      "placeholder": "​",
      "style": "IPY_MODEL_064c99a9f1d344018f77e9d9d6e03c8b",
      "value": "Downloading: 100%"
     }
    },
    "b4103e912e9148e9b175667b089e1565": {
     "model_module": "@jupyter-widgets/controls",
     "model_module_version": "1.5.0",
     "model_name": "ProgressStyleModel",
     "state": {
      "_model_module": "@jupyter-widgets/controls",
      "_model_module_version": "1.5.0",
      "_model_name": "ProgressStyleModel",
      "_view_count": null,
      "_view_module": "@jupyter-widgets/base",
      "_view_module_version": "1.2.0",
      "_view_name": "StyleView",
      "bar_color": null,
      "description_width": ""
     }
    },
    "b4985eaa8f384608a029c6f693dc89e6": {
     "model_module": "@jupyter-widgets/controls",
     "model_module_version": "1.5.0",
     "model_name": "FloatProgressModel",
     "state": {
      "_dom_classes": [],
      "_model_module": "@jupyter-widgets/controls",
      "_model_module_version": "1.5.0",
      "_model_name": "FloatProgressModel",
      "_view_count": null,
      "_view_module": "@jupyter-widgets/controls",
      "_view_module_version": "1.5.0",
      "_view_name": "ProgressView",
      "bar_style": "success",
      "description": "",
      "description_tooltip": null,
      "layout": "IPY_MODEL_644451b89c1e4223a21f4f12657e1d64",
      "max": 267844284,
      "min": 0,
      "orientation": "horizontal",
      "style": "IPY_MODEL_d07bfafd9586431aafc117e9443ad6b2",
      "value": 267844284
     }
    },
    "b5d4ea3ac1aa4b149bf7765b6bfcb48b": {
     "model_module": "@jupyter-widgets/controls",
     "model_module_version": "1.5.0",
     "model_name": "HTMLModel",
     "state": {
      "_dom_classes": [],
      "_model_module": "@jupyter-widgets/controls",
      "_model_module_version": "1.5.0",
      "_model_name": "HTMLModel",
      "_view_count": null,
      "_view_module": "@jupyter-widgets/controls",
      "_view_module_version": "1.5.0",
      "_view_name": "HTMLView",
      "description": "",
      "description_tooltip": null,
      "layout": "IPY_MODEL_28bfba60611b4422b4b66838353ff6ca",
      "placeholder": "​",
      "style": "IPY_MODEL_82549d9aa7e14618b22d521c0dd331ad",
      "value": " 332/? [00:14&lt;00:00, 16.93it/s]"
     }
    },
    "ba66f239d0ae4827963e8449a647aace": {
     "model_module": "@jupyter-widgets/base",
     "model_module_version": "1.2.0",
     "model_name": "LayoutModel",
     "state": {
      "_model_module": "@jupyter-widgets/base",
      "_model_module_version": "1.2.0",
      "_model_name": "LayoutModel",
      "_view_count": null,
      "_view_module": "@jupyter-widgets/base",
      "_view_module_version": "1.2.0",
      "_view_name": "LayoutView",
      "align_content": null,
      "align_items": null,
      "align_self": null,
      "border": null,
      "bottom": null,
      "display": null,
      "flex": null,
      "flex_flow": null,
      "grid_area": null,
      "grid_auto_columns": null,
      "grid_auto_flow": null,
      "grid_auto_rows": null,
      "grid_column": null,
      "grid_gap": null,
      "grid_row": null,
      "grid_template_areas": null,
      "grid_template_columns": null,
      "grid_template_rows": null,
      "height": null,
      "justify_content": null,
      "justify_items": null,
      "left": null,
      "margin": null,
      "max_height": null,
      "max_width": null,
      "min_height": null,
      "min_width": null,
      "object_fit": null,
      "object_position": null,
      "order": null,
      "overflow": null,
      "overflow_x": null,
      "overflow_y": null,
      "padding": null,
      "right": null,
      "top": null,
      "visibility": null,
      "width": null
     }
    },
    "c3a9d216e43e49c98b086485eaff152a": {
     "model_module": "@jupyter-widgets/controls",
     "model_module_version": "1.5.0",
     "model_name": "FloatProgressModel",
     "state": {
      "_dom_classes": [],
      "_model_module": "@jupyter-widgets/controls",
      "_model_module_version": "1.5.0",
      "_model_name": "FloatProgressModel",
      "_view_count": null,
      "_view_module": "@jupyter-widgets/controls",
      "_view_module_version": "1.5.0",
      "_view_name": "ProgressView",
      "bar_style": "success",
      "description": "",
      "description_tooltip": null,
      "layout": "IPY_MODEL_c5265ce5df0c42ce9f2d056e34b65568",
      "max": 629,
      "min": 0,
      "orientation": "horizontal",
      "style": "IPY_MODEL_cd478de76544492781ccb86831b9a5f8",
      "value": 629
     }
    },
    "c5265ce5df0c42ce9f2d056e34b65568": {
     "model_module": "@jupyter-widgets/base",
     "model_module_version": "1.2.0",
     "model_name": "LayoutModel",
     "state": {
      "_model_module": "@jupyter-widgets/base",
      "_model_module_version": "1.2.0",
      "_model_name": "LayoutModel",
      "_view_count": null,
      "_view_module": "@jupyter-widgets/base",
      "_view_module_version": "1.2.0",
      "_view_name": "LayoutView",
      "align_content": null,
      "align_items": null,
      "align_self": null,
      "border": null,
      "bottom": null,
      "display": null,
      "flex": null,
      "flex_flow": null,
      "grid_area": null,
      "grid_auto_columns": null,
      "grid_auto_flow": null,
      "grid_auto_rows": null,
      "grid_column": null,
      "grid_gap": null,
      "grid_row": null,
      "grid_template_areas": null,
      "grid_template_columns": null,
      "grid_template_rows": null,
      "height": null,
      "justify_content": null,
      "justify_items": null,
      "left": null,
      "margin": null,
      "max_height": null,
      "max_width": null,
      "min_height": null,
      "min_width": null,
      "object_fit": null,
      "object_position": null,
      "order": null,
      "overflow": null,
      "overflow_x": null,
      "overflow_y": null,
      "padding": null,
      "right": null,
      "top": null,
      "visibility": null,
      "width": null
     }
    },
    "c741d792d7b1409f8b2a22133bd70912": {
     "model_module": "@jupyter-widgets/base",
     "model_module_version": "1.2.0",
     "model_name": "LayoutModel",
     "state": {
      "_model_module": "@jupyter-widgets/base",
      "_model_module_version": "1.2.0",
      "_model_name": "LayoutModel",
      "_view_count": null,
      "_view_module": "@jupyter-widgets/base",
      "_view_module_version": "1.2.0",
      "_view_name": "LayoutView",
      "align_content": null,
      "align_items": null,
      "align_self": null,
      "border": null,
      "bottom": null,
      "display": null,
      "flex": null,
      "flex_flow": null,
      "grid_area": null,
      "grid_auto_columns": null,
      "grid_auto_flow": null,
      "grid_auto_rows": null,
      "grid_column": null,
      "grid_gap": null,
      "grid_row": null,
      "grid_template_areas": null,
      "grid_template_columns": null,
      "grid_template_rows": null,
      "height": null,
      "justify_content": null,
      "justify_items": null,
      "left": null,
      "margin": null,
      "max_height": null,
      "max_width": null,
      "min_height": null,
      "min_width": null,
      "object_fit": null,
      "object_position": null,
      "order": null,
      "overflow": null,
      "overflow_x": null,
      "overflow_y": null,
      "padding": null,
      "right": null,
      "top": null,
      "visibility": null,
      "width": null
     }
    },
    "c7ac92d12824402b8f572223bea4faf1": {
     "model_module": "@jupyter-widgets/controls",
     "model_module_version": "1.5.0",
     "model_name": "DescriptionStyleModel",
     "state": {
      "_model_module": "@jupyter-widgets/controls",
      "_model_module_version": "1.5.0",
      "_model_name": "DescriptionStyleModel",
      "_view_count": null,
      "_view_module": "@jupyter-widgets/base",
      "_view_module_version": "1.2.0",
      "_view_name": "StyleView",
      "description_width": ""
     }
    },
    "cd478de76544492781ccb86831b9a5f8": {
     "model_module": "@jupyter-widgets/controls",
     "model_module_version": "1.5.0",
     "model_name": "ProgressStyleModel",
     "state": {
      "_model_module": "@jupyter-widgets/controls",
      "_model_module_version": "1.5.0",
      "_model_name": "ProgressStyleModel",
      "_view_count": null,
      "_view_module": "@jupyter-widgets/base",
      "_view_module_version": "1.2.0",
      "_view_name": "StyleView",
      "bar_color": null,
      "description_width": ""
     }
    },
    "cdf750f43ffa427ba47d9d9ca6187df5": {
     "model_module": "@jupyter-widgets/controls",
     "model_module_version": "1.5.0",
     "model_name": "DescriptionStyleModel",
     "state": {
      "_model_module": "@jupyter-widgets/controls",
      "_model_module_version": "1.5.0",
      "_model_name": "DescriptionStyleModel",
      "_view_count": null,
      "_view_module": "@jupyter-widgets/base",
      "_view_module_version": "1.2.0",
      "_view_name": "StyleView",
      "description_width": ""
     }
    },
    "cff381d3144e4fd79d8bc06988e6258a": {
     "model_module": "@jupyter-widgets/base",
     "model_module_version": "1.2.0",
     "model_name": "LayoutModel",
     "state": {
      "_model_module": "@jupyter-widgets/base",
      "_model_module_version": "1.2.0",
      "_model_name": "LayoutModel",
      "_view_count": null,
      "_view_module": "@jupyter-widgets/base",
      "_view_module_version": "1.2.0",
      "_view_name": "LayoutView",
      "align_content": null,
      "align_items": null,
      "align_self": null,
      "border": null,
      "bottom": null,
      "display": null,
      "flex": null,
      "flex_flow": null,
      "grid_area": null,
      "grid_auto_columns": null,
      "grid_auto_flow": null,
      "grid_auto_rows": null,
      "grid_column": null,
      "grid_gap": null,
      "grid_row": null,
      "grid_template_areas": null,
      "grid_template_columns": null,
      "grid_template_rows": null,
      "height": null,
      "justify_content": null,
      "justify_items": null,
      "left": null,
      "margin": null,
      "max_height": null,
      "max_width": null,
      "min_height": null,
      "min_width": null,
      "object_fit": null,
      "object_position": null,
      "order": null,
      "overflow": null,
      "overflow_x": null,
      "overflow_y": null,
      "padding": null,
      "right": null,
      "top": null,
      "visibility": null,
      "width": null
     }
    },
    "d07bfafd9586431aafc117e9443ad6b2": {
     "model_module": "@jupyter-widgets/controls",
     "model_module_version": "1.5.0",
     "model_name": "ProgressStyleModel",
     "state": {
      "_model_module": "@jupyter-widgets/controls",
      "_model_module_version": "1.5.0",
      "_model_name": "ProgressStyleModel",
      "_view_count": null,
      "_view_module": "@jupyter-widgets/base",
      "_view_module_version": "1.2.0",
      "_view_name": "StyleView",
      "bar_color": null,
      "description_width": ""
     }
    },
    "e429eaeb953d4a45b006b1e5e1822f61": {
     "model_module": "@jupyter-widgets/base",
     "model_module_version": "1.2.0",
     "model_name": "LayoutModel",
     "state": {
      "_model_module": "@jupyter-widgets/base",
      "_model_module_version": "1.2.0",
      "_model_name": "LayoutModel",
      "_view_count": null,
      "_view_module": "@jupyter-widgets/base",
      "_view_module_version": "1.2.0",
      "_view_name": "LayoutView",
      "align_content": null,
      "align_items": null,
      "align_self": null,
      "border": null,
      "bottom": null,
      "display": null,
      "flex": null,
      "flex_flow": null,
      "grid_area": null,
      "grid_auto_columns": null,
      "grid_auto_flow": null,
      "grid_auto_rows": null,
      "grid_column": null,
      "grid_gap": null,
      "grid_row": null,
      "grid_template_areas": null,
      "grid_template_columns": null,
      "grid_template_rows": null,
      "height": null,
      "justify_content": null,
      "justify_items": null,
      "left": null,
      "margin": null,
      "max_height": null,
      "max_width": null,
      "min_height": null,
      "min_width": null,
      "object_fit": null,
      "object_position": null,
      "order": null,
      "overflow": null,
      "overflow_x": null,
      "overflow_y": null,
      "padding": null,
      "right": null,
      "top": null,
      "visibility": null,
      "width": null
     }
    },
    "e6c832095e60448081f73da2b78b5648": {
     "model_module": "@jupyter-widgets/controls",
     "model_module_version": "1.5.0",
     "model_name": "ProgressStyleModel",
     "state": {
      "_model_module": "@jupyter-widgets/controls",
      "_model_module_version": "1.5.0",
      "_model_name": "ProgressStyleModel",
      "_view_count": null,
      "_view_module": "@jupyter-widgets/base",
      "_view_module_version": "1.2.0",
      "_view_name": "StyleView",
      "bar_color": null,
      "description_width": ""
     }
    },
    "e6dfaff0910c4f7fbae079746d77d10e": {
     "model_module": "@jupyter-widgets/controls",
     "model_module_version": "1.5.0",
     "model_name": "DescriptionStyleModel",
     "state": {
      "_model_module": "@jupyter-widgets/controls",
      "_model_module_version": "1.5.0",
      "_model_name": "DescriptionStyleModel",
      "_view_count": null,
      "_view_module": "@jupyter-widgets/base",
      "_view_module_version": "1.2.0",
      "_view_name": "StyleView",
      "description_width": ""
     }
    },
    "e7651ed80798400997d0f4ffd21eded1": {
     "model_module": "@jupyter-widgets/controls",
     "model_module_version": "1.5.0",
     "model_name": "HTMLModel",
     "state": {
      "_dom_classes": [],
      "_model_module": "@jupyter-widgets/controls",
      "_model_module_version": "1.5.0",
      "_model_name": "HTMLModel",
      "_view_count": null,
      "_view_module": "@jupyter-widgets/controls",
      "_view_module_version": "1.5.0",
      "_view_name": "HTMLView",
      "description": "",
      "description_tooltip": null,
      "layout": "IPY_MODEL_4bd3e51825fc48919fa3dd41362f1883",
      "placeholder": "​",
      "style": "IPY_MODEL_fab96fcfbe9f43ad8c0a1b24501dc0bc",
      "value": " 48.0/48.0 [00:00&lt;00:00, 1.27kB/s]"
     }
    },
    "e78175c11186439aae7036107db6c265": {
     "model_module": "@jupyter-widgets/base",
     "model_module_version": "1.2.0",
     "model_name": "LayoutModel",
     "state": {
      "_model_module": "@jupyter-widgets/base",
      "_model_module_version": "1.2.0",
      "_model_name": "LayoutModel",
      "_view_count": null,
      "_view_module": "@jupyter-widgets/base",
      "_view_module_version": "1.2.0",
      "_view_name": "LayoutView",
      "align_content": null,
      "align_items": null,
      "align_self": null,
      "border": null,
      "bottom": null,
      "display": null,
      "flex": null,
      "flex_flow": null,
      "grid_area": null,
      "grid_auto_columns": null,
      "grid_auto_flow": null,
      "grid_auto_rows": null,
      "grid_column": null,
      "grid_gap": null,
      "grid_row": null,
      "grid_template_areas": null,
      "grid_template_columns": null,
      "grid_template_rows": null,
      "height": null,
      "justify_content": null,
      "justify_items": null,
      "left": null,
      "margin": null,
      "max_height": null,
      "max_width": null,
      "min_height": null,
      "min_width": null,
      "object_fit": null,
      "object_position": null,
      "order": null,
      "overflow": null,
      "overflow_x": null,
      "overflow_y": null,
      "padding": null,
      "right": null,
      "top": null,
      "visibility": null,
      "width": null
     }
    },
    "e78718aa539e4c598945c1e8389c9a1a": {
     "model_module": "@jupyter-widgets/base",
     "model_module_version": "1.2.0",
     "model_name": "LayoutModel",
     "state": {
      "_model_module": "@jupyter-widgets/base",
      "_model_module_version": "1.2.0",
      "_model_name": "LayoutModel",
      "_view_count": null,
      "_view_module": "@jupyter-widgets/base",
      "_view_module_version": "1.2.0",
      "_view_name": "LayoutView",
      "align_content": null,
      "align_items": null,
      "align_self": null,
      "border": null,
      "bottom": null,
      "display": null,
      "flex": null,
      "flex_flow": null,
      "grid_area": null,
      "grid_auto_columns": null,
      "grid_auto_flow": null,
      "grid_auto_rows": null,
      "grid_column": null,
      "grid_gap": null,
      "grid_row": null,
      "grid_template_areas": null,
      "grid_template_columns": null,
      "grid_template_rows": null,
      "height": null,
      "justify_content": null,
      "justify_items": null,
      "left": null,
      "margin": null,
      "max_height": null,
      "max_width": null,
      "min_height": null,
      "min_width": null,
      "object_fit": null,
      "object_position": null,
      "order": null,
      "overflow": null,
      "overflow_x": null,
      "overflow_y": null,
      "padding": null,
      "right": null,
      "top": null,
      "visibility": null,
      "width": null
     }
    },
    "ecf78f7df7c148078f35bf0dda56e861": {
     "model_module": "@jupyter-widgets/controls",
     "model_module_version": "1.5.0",
     "model_name": "DescriptionStyleModel",
     "state": {
      "_model_module": "@jupyter-widgets/controls",
      "_model_module_version": "1.5.0",
      "_model_name": "DescriptionStyleModel",
      "_view_count": null,
      "_view_module": "@jupyter-widgets/base",
      "_view_module_version": "1.2.0",
      "_view_name": "StyleView",
      "description_width": ""
     }
    },
    "f05875f00cdc47ef84ba39d517349e6d": {
     "model_module": "@jupyter-widgets/controls",
     "model_module_version": "1.5.0",
     "model_name": "FloatProgressModel",
     "state": {
      "_dom_classes": [],
      "_model_module": "@jupyter-widgets/controls",
      "_model_module_version": "1.5.0",
      "_model_name": "FloatProgressModel",
      "_view_count": null,
      "_view_module": "@jupyter-widgets/controls",
      "_view_module_version": "1.5.0",
      "_view_name": "ProgressView",
      "bar_style": "",
      "description": "",
      "description_tooltip": null,
      "layout": "IPY_MODEL_0265345edc414f559fa022d0caaf85ab",
      "max": 210,
      "min": 0,
      "orientation": "horizontal",
      "style": "IPY_MODEL_e6c832095e60448081f73da2b78b5648",
      "value": 210
     }
    },
    "f4ac044c6e324edc92569afd897455d8": {
     "model_module": "@jupyter-widgets/controls",
     "model_module_version": "1.5.0",
     "model_name": "HTMLModel",
     "state": {
      "_dom_classes": [],
      "_model_module": "@jupyter-widgets/controls",
      "_model_module_version": "1.5.0",
      "_model_name": "HTMLModel",
      "_view_count": null,
      "_view_module": "@jupyter-widgets/controls",
      "_view_module_version": "1.5.0",
      "_view_name": "HTMLView",
      "description": "",
      "description_tooltip": null,
      "layout": "IPY_MODEL_3229c7fbc5da4741a89c4a0b8cd85a5e",
      "placeholder": "​",
      "style": "IPY_MODEL_29d0c02d62114435b5167dace0bd32ba",
      "value": ""
     }
    },
    "fab96fcfbe9f43ad8c0a1b24501dc0bc": {
     "model_module": "@jupyter-widgets/controls",
     "model_module_version": "1.5.0",
     "model_name": "DescriptionStyleModel",
     "state": {
      "_model_module": "@jupyter-widgets/controls",
      "_model_module_version": "1.5.0",
      "_model_name": "DescriptionStyleModel",
      "_view_count": null,
      "_view_module": "@jupyter-widgets/base",
      "_view_module_version": "1.2.0",
      "_view_name": "StyleView",
      "description_width": ""
     }
    },
    "ffb78ef40d454c0fa0187eaf483db498": {
     "model_module": "@jupyter-widgets/controls",
     "model_module_version": "1.5.0",
     "model_name": "ProgressStyleModel",
     "state": {
      "_model_module": "@jupyter-widgets/controls",
      "_model_module_version": "1.5.0",
      "_model_name": "ProgressStyleModel",
      "_view_count": null,
      "_view_module": "@jupyter-widgets/base",
      "_view_module_version": "1.2.0",
      "_view_name": "StyleView",
      "bar_color": null,
      "description_width": ""
     }
    }
   }
  }
 },
 "nbformat": 4,
 "nbformat_minor": 5
}
