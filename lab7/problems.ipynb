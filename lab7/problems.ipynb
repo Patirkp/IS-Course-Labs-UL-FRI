{
 "cells": [
  {
   "cell_type": "markdown",
   "source": [
    "### Task 1: Entity Recognition and Replacement\n",
    "- **Objective:** Recognize named entities in imdb dataset (such as person names, locations) and replace them with generic labels to anonymize text data, if necessary.\n",
    "- **Instructions:**\n",
    "  - Utilize Stanza's entity recognition capabilities to identify named entities within the text.\n",
    "  - Replace recognized named entities with generic labels or placeholders to ensure anonymity in the text.\n",
    "\n",
    "### Task 2: Removal of HTML Tags or URLs\n",
    "- **Objective:** Enhance the preprocess function to eliminate HTML tags and URLs from the text data in imdb dataset.\n",
    "- **Instructions:**\n",
    "  - Update the preprocess function using regular expressions to remove HTML tags (e.g., <tag>) and URLs present within the text.\n",
    "  - Ensure the removal of HTML tags and URLs to clean the text data effectively.\n",
    "\n",
    "### Task 3: Comparison of Pre-trained Word Embeddings\n",
    "- **Objective:** Download various pre-trained word embeddings (e.g., FastText, Word2Vec, GloVe) and evaluate their performance against custom-trained embeddings on imdb dataset.\n",
    "- **Instructions:**\n",
    "  - Access the NLPL Vector Repository http://vectors.nlpl.eu/repository/ to download pre-trained word embeddings such as FastText, Word2Vec, and GloVe.\n",
    "  - Compare these pre-trained embeddings with our custom-trained embeddings on imdb dataset."
   ],
   "metadata": {
    "collapsed": false
   },
   "id": "7b7d445e9f59f8e4"
  },
  {
   "cell_type": "code",
   "execution_count": null,
   "outputs": [],
   "source": [],
   "metadata": {
    "collapsed": false
   },
   "id": "c7c963fba3f259a0"
  }
 ],
 "metadata": {
  "kernelspec": {
   "display_name": "Python 3",
   "language": "python",
   "name": "python3"
  },
  "language_info": {
   "codemirror_mode": {
    "name": "ipython",
    "version": 2
   },
   "file_extension": ".py",
   "mimetype": "text/x-python",
   "name": "python",
   "nbconvert_exporter": "python",
   "pygments_lexer": "ipython2",
   "version": "2.7.6"
  }
 },
 "nbformat": 4,
 "nbformat_minor": 5
}
