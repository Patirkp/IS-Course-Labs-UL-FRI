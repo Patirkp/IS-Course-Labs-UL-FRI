{
 "cells": [
  {
   "cell_type": "markdown",
   "source": [
    "# Problem 1\n",
    "\n",
    " - load the \"student\" dataset\n",
    "\n",
    " - discretize the attributes G1, G2, and G3 into five bins:\n",
    "   fail[0,9], sufficient[10,11], satisfactory[12,13], good[14,15], excellent[16,20]\n",
    "\n",
    " - train different models to predict secondary school student performance\n",
    "   (the target variable is the \"G3\" attribute)\n",
    "\n",
    " - evaluete trained models using different strategies\n",
    "\n",
    " - compare the results\n"
   ],
   "metadata": {
    "collapsed": false
   },
   "id": "b87b3c3807c615dc"
  },
  {
   "cell_type": "markdown",
   "source": [
    "# Problem 2\n",
    "- load the \"vehicle\" dataset\n",
    "\n",
    " - train different models to classify a given silhouette as one of four types \n",
    "   of vehicle (the target variable is the \"Class\" attribute)\n",
    "\n",
    " - evaluete trained models using different strategies\n",
    "\n",
    " - compare the results\n"
   ],
   "metadata": {
    "collapsed": false
   },
   "id": "256a7a0cbb26a10e"
  },
  {
   "cell_type": "markdown",
   "source": [
    "# Problem 3\n",
    "- compare knn's performance across different libraries on the vehicle problem using 10 fold cross validation. What do you observe? Explain.\n",
    "\n",
    "- Visualize the k with respect to knn's performance for k=1..20.\n",
    "- Perform a similar visualization for SVMs and the C parameter."
   ],
   "metadata": {
    "collapsed": false
   },
   "id": "93272c89bdd01346"
  },
  {
   "cell_type": "code",
   "execution_count": null,
   "outputs": [],
   "source": [],
   "metadata": {
    "collapsed": false
   },
   "id": "953197169681916b"
  }
 ],
 "metadata": {
  "kernelspec": {
   "display_name": "Python 3",
   "language": "python",
   "name": "python3"
  },
  "language_info": {
   "codemirror_mode": {
    "name": "ipython",
    "version": 2
   },
   "file_extension": ".py",
   "mimetype": "text/x-python",
   "name": "python",
   "nbconvert_exporter": "python",
   "pygments_lexer": "ipython2",
   "version": "2.7.6"
  }
 },
 "nbformat": 4,
 "nbformat_minor": 5
}
