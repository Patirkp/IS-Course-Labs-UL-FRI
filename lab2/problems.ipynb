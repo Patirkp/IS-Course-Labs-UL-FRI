{
 "cells": [
  {
   "cell_type": "markdown",
   "id": "d612b008",
   "metadata": {},
   "source": [
    "Use GA search (using pygad) to find the minimum of the real-valued function f(x) = abs(x) + cos(x). Restrict the search interval to [-20, 20]. Carefully define the fitness function since pygad can only maximize it!\n",
    "\n",
    "$$ f(x) = |x| + cos(x) $$"
   ]
  },
  {
   "cell_type": "code",
   "execution_count": null,
   "id": "79fffc28",
   "metadata": {},
   "outputs": [],
   "source": []
  },
  {
   "cell_type": "markdown",
   "id": "97c348f9",
   "metadata": {},
   "source": [
    "Use GA search to find the minimum of the real-valued two-dimensional function f(x1, x2) = 20 + x1^2 + x2^2 - 10 * (cos(2 * pi * x1) + cos(2 * pi * x2)), where x1 and x2 are from the interval [-5.12, 5.12].\n",
    "\n",
    "$$ f(x_1, x_2) = 20 + x_1^2 + x_2^2 - 10 (cos(2 \\pi x_1) + cos(2 \\pi x_2)) $$"
   ]
  },
  {
   "cell_type": "code",
   "execution_count": null,
   "id": "318b6aa0",
   "metadata": {},
   "outputs": [],
   "source": []
  },
  {
   "cell_type": "markdown",
   "id": "23790ad4",
   "metadata": {},
   "source": [
    "We are given the following data:\n",
    "\n",
    "substrate = [1.73, 2.06, 2.20, 4.28, 4.44, 5.53, 6.32, 6.68, 7.28, 7.90, 8.80, 9.14, 9.18, 9.40, 9.88]\n",
    "\n",
    "Velocity  = [12.48, 13.97, 14.59, 21.25, 21.66, 21.97, 25.36, 22.93, 24.81, 25.63, 24.68, 29.04, 28.08, 27.32, 27.77]\n",
    "\n",
    "Use GA search to fit the data to the model: Velocity = (M * Substrate) / (K + Substrate), where M and K are the model parameters. Restrict the search interval for M to [40.0, 50.0] and for K to [3.0, 5.0]."
   ]
  },
  {
   "cell_type": "code",
   "execution_count": null,
   "id": "8d452717",
   "metadata": {},
   "outputs": [],
   "source": []
  }
 ],
 "metadata": {
  "kernelspec": {
   "display_name": "Python 3 (ipykernel)",
   "language": "python",
   "name": "python3"
  },
  "language_info": {
   "codemirror_mode": {
    "name": "ipython",
    "version": 3
   },
   "file_extension": ".py",
   "mimetype": "text/x-python",
   "name": "python",
   "nbconvert_exporter": "python",
   "pygments_lexer": "ipython3",
   "version": "3.8.5"
  }
 },
 "nbformat": 4,
 "nbformat_minor": 5
}
