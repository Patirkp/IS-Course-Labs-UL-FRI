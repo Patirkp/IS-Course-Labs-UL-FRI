{
 "cells": [
  {
   "cell_type": "code",
   "execution_count": 1,
   "id": "271f585294ff07a8",
   "metadata": {
    "collapsed": true,
    "ExecuteTime": {
     "end_time": "2023-12-14T13:16:27.858167Z",
     "start_time": "2023-12-14T13:16:27.334267Z"
    }
   },
   "outputs": [],
   "source": [
    "import pandas as pd\n",
    "from sklearn.model_selection import train_test_split\n",
    "from sklearn.tree import DecisionTreeClassifier\n",
    "from sklearn.naive_bayes import GaussianNB\n",
    "from sklearn.neighbors import KNeighborsClassifier\n",
    "from sklearn.ensemble import BaggingClassifier, RandomForestClassifier, AdaBoostClassifier, VotingClassifier\n",
    "from sklearn.metrics import accuracy_score\n",
    "from xgboost import XGBClassifier\n",
    "import matplotlib.pyplot as plt\n",
    "import seaborn as sns\n",
    "import numpy as np"
   ]
  },
  {
   "cell_type": "code",
   "execution_count": 2,
   "outputs": [],
   "source": [
    "# Load the dataset\n",
    "vehicle = pd.read_csv(\"vehicle.txt\")\n",
    "\n",
    "# Split the data into features (X) and target variable (y)\n",
    "X = vehicle.drop('Class', axis=1)\n",
    "y = pd.Categorical(vehicle['Class'])\n",
    "\n",
    "# Split the data into training and testing sets\n",
    "X_train, X_test, y_train, y_test = train_test_split(X, y, test_size=0.2, random_state=8678686)"
   ],
   "metadata": {
    "collapsed": false,
    "ExecuteTime": {
     "end_time": "2023-12-14T13:16:27.891494Z",
     "start_time": "2023-12-14T13:16:27.860819Z"
    }
   },
   "id": "363c540439c0525"
  },
  {
   "cell_type": "markdown",
   "source": [
    "# Models"
   ],
   "metadata": {
    "collapsed": false
   },
   "id": "3aa2eaa3f2bdea9b"
  },
  {
   "cell_type": "code",
   "execution_count": 3,
   "outputs": [
    {
     "name": "stdout",
     "output_type": "stream",
     "text": [
      "Decision Tree Accuracy: 0.6647058823529411\n",
      "Naive Bayes Accuracy: 0.43529411764705883\n",
      "K-Nearest Neighbors Accuracy: 0.6647058823529411\n"
     ]
    }
   ],
   "source": [
    "# Decision Tree\n",
    "model_DT = DecisionTreeClassifier()\n",
    "model_DT.fit(X_train, y_train)\n",
    "pred_DT = model_DT.predict(X_test)\n",
    "result_ca_DT = accuracy_score(y_test, pred_DT)\n",
    "print(\"Decision Tree Accuracy:\", result_ca_DT)\n",
    "\n",
    "# Naive Bayes\n",
    "model_NB = GaussianNB()\n",
    "model_NB.fit(X_train, y_train)\n",
    "pred_NB = model_NB.predict(X_test)\n",
    "result_ca_NB = accuracy_score(y_test, pred_NB)\n",
    "print(\"Naive Bayes Accuracy:\", result_ca_NB)\n",
    "\n",
    "# K-Nearest Neighbors\n",
    "model_KNN = KNeighborsClassifier(n_neighbors=2)\n",
    "model_KNN.fit(X_train, y_train)\n",
    "pred_KNN = model_KNN.predict(X_test)\n",
    "result_ca_KNN = accuracy_score(y_test, pred_KNN)\n",
    "print(\"K-Nearest Neighbors Accuracy:\", result_ca_KNN)"
   ],
   "metadata": {
    "collapsed": false,
    "ExecuteTime": {
     "end_time": "2023-12-14T13:16:27.968434Z",
     "start_time": "2023-12-14T13:16:27.893936Z"
    }
   },
   "id": "5422d23f8534e0f9"
  },
  {
   "cell_type": "markdown",
   "source": [
    "### Ensemble Learning\n",
    "\n",
    "Ensemble learning is a machine learning technique that combines multiple individual models (base learners) to create a more robust and accurate predictive model. The fundamental idea is that by aggregating the predictions or decisions of diverse models, the ensemble model often outperforms any single model in the ensemble.\n",
    "\n",
    "#### Types of Ensemble Methods:\n",
    "\n",
    "1. **Bagging (Bootstrap Aggregating)**\n",
    "   - **Concept**: It involves training multiple instances of the same base learning algorithm on different subsets of the training data (sampled with replacement).\n",
    "   - **Example**: Random Forest is an ensemble of decision trees created through bagging.\n",
    "\n",
    "2. **Boosting**\n",
    "   - **Concept**: It focuses on sequentially training models where each subsequent model corrects the errors of its predecessor.\n",
    "   - **Example**: AdaBoost and Gradient Boosting are popular boosting algorithms.\n",
    "\n",
    "3. **Stacking**\n",
    "   - **Concept**: Involves combining predictions of multiple base learners using a meta-learner (another model).\n",
    "   - **Implementation**: The predictions of individual models serve as input features for the meta-learner.\n",
    "\n",
    "4. **Voting**\n",
    "   - **Concept**: Combines predictions from multiple models (can be homogeneous or heterogeneous models).\n",
    "   - **Types**: \n",
    "       - *Hard Voting*: Combines predictions by majority voting.\n",
    "       - *Soft Voting*: Weights the predictions based on confidence scores or probabilities.\n",
    "\n",
    "#### Benefits of Ensemble Learning:\n",
    "\n",
    "- **Improved Accuracy**: Ensemble methods often provide better predictive performance compared to individual models, especially when the base models are diverse.\n",
    "  \n",
    "- **Reduced Overfitting**: By aggregating predictions from multiple models, ensemble methods can reduce overfitting and increase generalization.\n",
    "\n",
    "- **Robustness**: Ensembles are more robust to outliers or noisy data as they consider multiple perspectives when making predictions.\n",
    "\n",
    "#### Considerations:\n",
    "\n",
    "- **Diversity**: The key to successful ensembles is diversity among base learners. Diverse models (different algorithms, subsets of data, or different features) tend to improve ensemble performance.\n",
    "\n",
    "- **Computation**: Ensembles may require more computational resources and training time due to the need to train multiple models.\n",
    "\n",
    "Ensemble learning is a powerful concept widely used in various machine learning applications, leveraging the collective intelligence of multiple models to achieve superior predictive accuracy and robustness.\n"
   ],
   "metadata": {
    "collapsed": false
   },
   "id": "947902aa4234655b"
  },
  {
   "cell_type": "code",
   "execution_count": 4,
   "outputs": [
    {
     "name": "stdout",
     "output_type": "stream",
     "text": [
      "Voting Accuracy: 0.7\n"
     ]
    }
   ],
   "source": [
    "# Hard Voting\n",
    "model_voting = VotingClassifier(estimators=[('dt', model_DT), ('nb', model_NB), ('knn', model_KNN)], voting='hard')\n",
    "model_voting.fit(X_train, y_train)\n",
    "pred_voting = model_voting.predict(X_test)\n",
    "result_voting = accuracy_score(y_test, pred_voting)\n",
    "print(\"Voting Accuracy:\", result_voting)"
   ],
   "metadata": {
    "collapsed": false,
    "ExecuteTime": {
     "end_time": "2023-12-14T13:16:28.054263Z",
     "start_time": "2023-12-14T13:16:27.967792Z"
    }
   },
   "id": "7fc595ef3f9532f5"
  },
  {
   "cell_type": "code",
   "execution_count": 5,
   "outputs": [
    {
     "name": "stdout",
     "output_type": "stream",
     "text": [
      "Voting Accuracy: 0.6823529411764706\n"
     ]
    }
   ],
   "source": [
    "# Soft Voting\n",
    "model_voting = VotingClassifier(estimators=[('dt', model_DT), ('nb', model_NB), ('knn', model_KNN)], voting='soft')\n",
    "model_voting.fit(X_train, y_train)\n",
    "pred_voting = model_voting.predict(X_test)\n",
    "result_voting = accuracy_score(y_test, pred_voting)\n",
    "print(\"Voting Accuracy:\", result_voting)"
   ],
   "metadata": {
    "collapsed": false,
    "ExecuteTime": {
     "end_time": "2023-12-14T13:16:28.056318Z",
     "start_time": "2023-12-14T13:16:28.022135Z"
    }
   },
   "id": "fdb945168d87cb39"
  },
  {
   "cell_type": "code",
   "execution_count": 6,
   "outputs": [
    {
     "name": "stdout",
     "output_type": "stream",
     "text": [
      "Weighted Voting Accuracy: 0.6882352941176471\n"
     ]
    }
   ],
   "source": [
    "# Weighted Voting \n",
    "pred_DT_prob = model_DT.predict_proba(X_test)\n",
    "pred_NB_prob = model_NB.predict_proba(X_test)\n",
    "pred_KNN_prob = model_KNN.predict_proba(X_test)\n",
    "\n",
    "weighted_DT_prob = result_ca_DT * pred_DT_prob\n",
    "weighted_NB_prob = result_ca_NB * pred_NB_prob\n",
    "weighted_KNN_prob = result_ca_KNN * pred_KNN_prob\n",
    "\n",
    "pred_prob = weighted_DT_prob + weighted_NB_prob + weighted_KNN_prob\n",
    "predicted_labels = np.argmax(pred_prob, axis=1)\n",
    "\n",
    "# int2class conversion dict\n",
    "class_conv = {\n",
    "    0: 'bus',\n",
    "    1: 'opel',\n",
    "    2: 'saab',\n",
    "    3: 'van'\n",
    "}\n",
    "\n",
    "# Evaluate\n",
    "predicted_labels = [class_conv[i] for i in predicted_labels]\n",
    "result_wvoting = accuracy_score(y_test, predicted_labels)\n",
    "print(\"Weighted Voting Accuracy:\", result_wvoting)"
   ],
   "metadata": {
    "collapsed": false,
    "ExecuteTime": {
     "end_time": "2023-12-14T13:16:28.142038Z",
     "start_time": "2023-12-14T13:16:28.059741Z"
    }
   },
   "id": "a36ef687efdb0f09"
  },
  {
   "cell_type": "code",
   "execution_count": 7,
   "outputs": [
    {
     "name": "stdout",
     "output_type": "stream",
     "text": [
      "Bagging Accuracy: 0.7058823529411765\n"
     ]
    },
    {
     "name": "stderr",
     "output_type": "stream",
     "text": [
      "/Users/azagar/miniconda3/envs/is/lib/python3.9/site-packages/sklearn/ensemble/_base.py:156: FutureWarning: `base_estimator` was renamed to `estimator` in version 1.2 and will be removed in 1.4.\n",
      "  warnings.warn(\n"
     ]
    }
   ],
   "source": [
    "# Bagging\n",
    "model_bagging = BaggingClassifier(base_estimator=DecisionTreeClassifier(), n_estimators=14, random_state=8678686)\n",
    "model_bagging.fit(X_train, y_train)\n",
    "pred_bagging = model_bagging.predict(X_test)\n",
    "result_bagging = accuracy_score(y_test, pred_bagging)\n",
    "print(\"Bagging Accuracy:\", result_bagging)"
   ],
   "metadata": {
    "collapsed": false,
    "ExecuteTime": {
     "end_time": "2023-12-14T13:16:28.250989Z",
     "start_time": "2023-12-14T13:16:28.083279Z"
    }
   },
   "id": "e8c45059d82f367"
  },
  {
   "cell_type": "code",
   "execution_count": 8,
   "outputs": [
    {
     "name": "stdout",
     "output_type": "stream",
     "text": [
      "Random Forest Accuracy: 0.7352941176470589\n"
     ]
    }
   ],
   "source": [
    "# Random Forest\n",
    "model_rf = RandomForestClassifier(random_state=8678686)\n",
    "model_rf.fit(X_train, y_train)\n",
    "pred_rf = model_rf.predict(X_test)\n",
    "result_rf = accuracy_score(y_test, pred_rf)\n",
    "print(\"Random Forest Accuracy:\", result_rf)"
   ],
   "metadata": {
    "collapsed": false,
    "ExecuteTime": {
     "end_time": "2023-12-14T13:16:28.513849Z",
     "start_time": "2023-12-14T13:16:28.245957Z"
    }
   },
   "id": "21002d6fcbd24c2d"
  },
  {
   "cell_type": "code",
   "execution_count": 9,
   "outputs": [
    {
     "name": "stdout",
     "output_type": "stream",
     "text": [
      "Boosting Accuracy: 0.6529411764705882\n"
     ]
    },
    {
     "name": "stderr",
     "output_type": "stream",
     "text": [
      "/Users/azagar/miniconda3/envs/is/lib/python3.9/site-packages/sklearn/ensemble/_base.py:156: FutureWarning: `base_estimator` was renamed to `estimator` in version 1.2 and will be removed in 1.4.\n",
      "  warnings.warn(\n"
     ]
    }
   ],
   "source": [
    "# Boosting\n",
    "model_boosting = AdaBoostClassifier(base_estimator=DecisionTreeClassifier(), random_state=8678686)\n",
    "model_boosting.fit(X_train, y_train)\n",
    "pred_boosting = model_boosting.predict(X_test)\n",
    "result_boosting = accuracy_score(y_test, pred_boosting)\n",
    "print(\"Boosting Accuracy:\", result_boosting)"
   ],
   "metadata": {
    "collapsed": false,
    "ExecuteTime": {
     "end_time": "2023-12-14T13:16:28.548946Z",
     "start_time": "2023-12-14T13:16:28.518443Z"
    }
   },
   "id": "f9a9109805ded594"
  },
  {
   "cell_type": "code",
   "execution_count": 10,
   "outputs": [
    {
     "name": "stderr",
     "output_type": "stream",
     "text": [
      "/Users/azagar/miniconda3/envs/is/lib/python3.9/site-packages/xgboost/data.py:299: FutureWarning: is_sparse is deprecated and will be removed in a future version. Check `isinstance(dtype, pd.SparseDtype)` instead.\n",
      "  if is_sparse(dtype):\n",
      "/Users/azagar/miniconda3/envs/is/lib/python3.9/site-packages/xgboost/data.py:301: FutureWarning: is_categorical_dtype is deprecated and will be removed in a future version. Use isinstance(dtype, CategoricalDtype) instead\n",
      "  elif is_categorical_dtype(dtype) and enable_categorical:\n",
      "/Users/azagar/miniconda3/envs/is/lib/python3.9/site-packages/xgboost/data.py:332: FutureWarning: is_categorical_dtype is deprecated and will be removed in a future version. Use isinstance(dtype, CategoricalDtype) instead\n",
      "  if is_categorical_dtype(dtype)\n",
      "/Users/azagar/miniconda3/envs/is/lib/python3.9/site-packages/xgboost/data.py:323: FutureWarning: is_categorical_dtype is deprecated and will be removed in a future version. Use isinstance(dtype, CategoricalDtype) instead\n",
      "  return is_int or is_bool or is_float or is_categorical_dtype(dtype)\n"
     ]
    },
    {
     "name": "stdout",
     "output_type": "stream",
     "text": [
      "XGBoost Accuracy: 0.7470588235294118\n"
     ]
    },
    {
     "name": "stderr",
     "output_type": "stream",
     "text": [
      "/Users/azagar/miniconda3/envs/is/lib/python3.9/site-packages/xgboost/data.py:299: FutureWarning: is_sparse is deprecated and will be removed in a future version. Check `isinstance(dtype, pd.SparseDtype)` instead.\n",
      "  if is_sparse(dtype):\n",
      "/Users/azagar/miniconda3/envs/is/lib/python3.9/site-packages/xgboost/data.py:301: FutureWarning: is_categorical_dtype is deprecated and will be removed in a future version. Use isinstance(dtype, CategoricalDtype) instead\n",
      "  elif is_categorical_dtype(dtype) and enable_categorical:\n",
      "/Users/azagar/miniconda3/envs/is/lib/python3.9/site-packages/xgboost/data.py:332: FutureWarning: is_categorical_dtype is deprecated and will be removed in a future version. Use isinstance(dtype, CategoricalDtype) instead\n",
      "  if is_categorical_dtype(dtype)\n",
      "/Users/azagar/miniconda3/envs/is/lib/python3.9/site-packages/xgboost/data.py:323: FutureWarning: is_categorical_dtype is deprecated and will be removed in a future version. Use isinstance(dtype, CategoricalDtype) instead\n",
      "  return is_int or is_bool or is_float or is_categorical_dtype(dtype)\n"
     ]
    }
   ],
   "source": [
    "from sklearn.preprocessing import LabelEncoder\n",
    "\n",
    "# Label encoding\n",
    "label_encoder = LabelEncoder()\n",
    "y_encoded = label_encoder.fit_transform(y)\n",
    "\n",
    "# Splitting the dataset into the Training set and Test set\n",
    "X_train, X_test, y_train, y_test = train_test_split(X, y_encoded, test_size=0.2, random_state=8678686)\n",
    "\n",
    "# XGBoost\n",
    "model_xgb = XGBClassifier()\n",
    "model_xgb.fit(X_train, y_train)\n",
    "pred_xgb = model_xgb.predict(X_test)\n",
    "result_xgb = accuracy_score(y_test, pred_xgb)\n",
    "print(\"XGBoost Accuracy:\", result_xgb)"
   ],
   "metadata": {
    "collapsed": false,
    "ExecuteTime": {
     "end_time": "2023-12-14T13:16:28.998216Z",
     "start_time": "2023-12-14T13:16:28.536224Z"
    }
   },
   "id": "e7149e592d33e5ad"
  },
  {
   "cell_type": "code",
   "execution_count": 11,
   "outputs": [
    {
     "data": {
      "text/plain": "<Figure size 1000x600 with 1 Axes>",
      "image/png": "[encoded data removed]"
     },
     "metadata": {},
     "output_type": "display_data"
    }
   ],
   "source": [
    "# Visualization\n",
    "algo_names = [\"Decision Tree\", \"Naive Bayes\", \"K-Nearest Neighbors\", \"Voting\", \"Weighted Voting\", \"Bagging\", \"Random Forest\", \"Boosting\", \"XGBoost\"]\n",
    "performances = [result_ca_DT, result_ca_NB, result_ca_KNN, result_voting, result_wvoting, result_bagging, result_rf, result_boosting, result_xgb]\n",
    "ensemble_model = [0, 0, 0, 1, 1, 1, 1, 1, 1]\n",
    "\n",
    "result_df = pd.DataFrame({'Algorithm': algo_names, 'Performance': performances, 'Ensemble Model': ensemble_model})\n",
    "result_df = result_df.sort_values(by='Performance', ascending=False)\n",
    "\n",
    "sns.set(style=\"whitegrid\")\n",
    "plt.figure(figsize=(10, 6))\n",
    "sns.barplot(x='Performance', y='Algorithm', hue='Ensemble Model', data=result_df, dodge=False, palette={0: 'red', 1: 'green'})\n",
    "plt.xlabel('Accuracy')\n",
    "plt.ylabel('Algorithm')\n",
    "plt.title('Performance Comparison')\n",
    "plt.legend(title='Ensemble Model', loc='lower right')\n",
    "plt.show()"
   ],
   "metadata": {
    "collapsed": false,
    "ExecuteTime": {
     "end_time": "2023-12-14T13:16:29.313913Z",
     "start_time": "2023-12-14T13:16:29.001497Z"
    }
   },
   "id": "initial_id"
  },
  {
   "cell_type": "code",
   "execution_count": 11,
   "outputs": [],
   "source": [],
   "metadata": {
    "collapsed": false,
    "ExecuteTime": {
     "end_time": "2023-12-14T13:16:29.320407Z",
     "start_time": "2023-12-14T13:16:29.317554Z"
    }
   },
   "id": "b152785468cb6bf8"
  }
 ],
 "metadata": {
  "kernelspec": {
   "display_name": "Python 3",
   "language": "python",
   "name": "python3"
  },
  "language_info": {
   "codemirror_mode": {
    "name": "ipython",
    "version": 2
   },
   "file_extension": ".py",
   "mimetype": "text/x-python",
   "name": "python",
   "nbconvert_exporter": "python",
   "pygments_lexer": "ipython2",
   "version": "2.7.6"
  }
 },
 "nbformat": 4,
 "nbformat_minor": 5
}
