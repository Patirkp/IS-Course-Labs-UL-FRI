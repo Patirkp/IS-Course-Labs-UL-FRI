{
 "cells": [
  {
   "cell_type": "markdown",
   "source": [
    "# Task 1 - Compare various clustering algorithms\n",
    "Dataset: worldcities.csv\n",
    "\n",
    "Task:\n",
    "- Try other clustering algorithms implemented in scikit learn: [link](https://scikit-learn.org/stable/modules/classes.html#module-sklearn.cluster). Compare the results with those obtained using K-means and Hierarchical clustering from the lab session. "
   ],
   "metadata": {
    "collapsed": false
   },
   "id": "c9925ee9ba59846f"
  },
  {
   "cell_type": "markdown",
   "source": [
    "# Task 2 - Clustering & dimensionality reduction\n",
    "Dataset: vehicle.txt\n",
    "\n",
    "Task:\n",
    "- Find the best two features using various feature selection techniques, and then perform clustering. Visualize the results.  \n",
    "- Apply different dimensionality reduction techniques such as PCA, and then perform clustering. Visualize the results. \n",
    "- Compare the visualization quality and insights gained with and without dimensionality reduction. Which technique produces better clusters? Which visualization is more useful?"
   ],
   "metadata": {
    "collapsed": false
   },
   "id": "8176d9e802025f7e"
  },
  {
   "cell_type": "markdown",
   "source": [
    "# Task 3 - Ensemble Learning with Different Base Learners\n",
    "\n",
    "Dataset: vehicle.txt\n",
    "\n",
    "Task: \n",
    "\n",
    "- Create ensemble models using different combinations of base learners. Select the best combination using cross-validation. Compare their performance in terms of a suitable metric.\n"
   ],
   "metadata": {
    "collapsed": false
   },
   "id": "96fdee38a12181be"
  },
  {
   "cell_type": "code",
   "execution_count": null,
   "outputs": [],
   "source": [],
   "metadata": {
    "collapsed": false,
    "ExecuteTime": {
     "end_time": "2023-12-18T07:34:47.199738Z",
     "start_time": "2023-12-18T07:34:47.183149Z"
    }
   },
   "id": "6cd1b45ad54b82f0"
  }
 ],
 "metadata": {
  "kernelspec": {
   "display_name": "Python 3",
   "language": "python",
   "name": "python3"
  },
  "language_info": {
   "codemirror_mode": {
    "name": "ipython",
    "version": 2
   },
   "file_extension": ".py",
   "mimetype": "text/x-python",
   "name": "python",
   "nbconvert_exporter": "python",
   "pygments_lexer": "ipython2",
   "version": "2.7.6"
  }
 },
 "nbformat": 4,
 "nbformat_minor": 5
}
