{
 "cells": [
  {
   "cell_type": "markdown",
   "id": "e72e1f32",
   "metadata": {},
   "source": [
    "# Exam problem\n",
    "\n",
    "The classifier was tested on a two class problem and achieved the following confusion matrix \n",
    "on a testing set:\n",
    "\n",
    "    +----------------------+-----+-----+\n",
    "    | True \\ classified as |     |     |\n",
    "    | class \\              |  0  |  1  |\n",
    "    +----------------------+-----+-----+\n",
    "    | 0                    | 300 |   0 | \n",
    "    +----------------------+-----+-----+\n",
    "    | 1                    |  80 | 120 |\n",
    "    +----------------------+-----+-----+         \n",
    "\n",
    "Calculate the following:\n",
    "\n",
    "a) the classification accuracy\n",
    "\n",
    "b) default accuracy (assume that the most frequent class in the testing set is also the most \n",
    "   frequent class in the training set)\n",
    "\n",
    "c) sensitivity\n",
    "\n",
    "d) specificity\n"
   ]
  },
  {
   "cell_type": "markdown",
   "id": "e50c27c1",
   "metadata": {},
   "source": [
    "# Exam problem\n",
    "\n",
    "The classifier classified four testing instances in a 4-class problem.\n",
    "The table below shows the prediction probability distribution for each of testing instances:\n",
    "\n",
    "\t             \n",
    "    actual class  | predicted probs:    C1    C2    C3    C4\n",
    "    --------------+-----------------------------------------\n",
    "    C4            |                   0.50  0.25  0.00  0.25\n",
    "    C2            |                   0.50  0.25  0.25  0.00\n",
    "    C1            |                   0.75  0.00  0.25  0.00\n",
    "    C2            |                   0.25  0.50  0.00  0.25\n",
    "\n",
    "\n",
    "Assume that the class probability distribution in the testing data set is equal to the distribution \n",
    "in the training set. Calculate the following:\n",
    "\n",
    "a) the average Brier score\n",
    "\n",
    "b) the average information score\n",
    "(defined as: 1/n * sum (-log2(p(prior)) + log2(p(predicted)))). p(prior) is the prior probability and\n",
    "p(predicted) is the probability of the prediction for a given class.\n",
    "\n",
    "c) the information score of a default classifier for the second testing instance\n"
   ]
  },
  {
   "cell_type": "markdown",
   "id": "d79be29d",
   "metadata": {},
   "source": [
    "# Practical problem\n",
    "\n",
    "- load the movies dataset\n",
    "\n",
    "- Remove the \"title\" and \"budget\" attributes from the dataset\n",
    "\n",
    "- split the data into two sets:\n",
    "    training set, which contains information about the movies made before the year 2004\n",
    "    test set, which contains information about the movies made in the year 2004 or later\n",
    "    then remove the \"year\" attribute \n",
    "\n",
    "- build a decision tree to predict whether or not a movie is a comedy.\n",
    "\n",
    "- evaluate that model on the test data\n"
   ]
  },
  {
   "cell_type": "markdown",
   "id": "eb5e305f",
   "metadata": {},
   "source": [
    "# Practical problem\n",
    "\n",
    "- load the tic-tac-toe training and test datasets:\n",
    "\n",
    "\t- train: tic-tac-toe-learn.txt\n",
    "\t- test: tic-tac-toe-test.txt\n",
    "\n",
    "- train a decision tree (the \"Class\" attribute is our target variable) and evaluate that model\n",
    "  on the test data\n",
    "\n",
    "- plot the ROC curve for your model (the value \"positive\" is our positive class) \n",
    "\n",
    "- try to improve your model with ROC analysis\n"
   ]
  }
 ],
 "metadata": {
  "kernelspec": {
   "display_name": "Python 3 (ipykernel)",
   "language": "python",
   "name": "python3"
  },
  "language_info": {
   "codemirror_mode": {
    "name": "ipython",
    "version": 3
   },
   "file_extension": ".py",
   "mimetype": "text/x-python",
   "name": "python",
   "nbconvert_exporter": "python",
   "pygments_lexer": "ipython3",
   "version": "3.8.5"
  }
 },
 "nbformat": 4,
 "nbformat_minor": 5
}
